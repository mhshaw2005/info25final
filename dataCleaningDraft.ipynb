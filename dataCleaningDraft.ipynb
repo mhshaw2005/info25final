{
 "cells": [
  {
   "cell_type": "code",
   "execution_count": 38,
   "id": "f6573313",
   "metadata": {},
   "outputs": [],
   "source": [
    "import json\n",
    "import pandas as pd\n",
    "import numpy as np"
   ]
  },
  {
   "cell_type": "code",
   "execution_count": 83,
   "id": "89aa3dac",
   "metadata": {},
   "outputs": [
    {
     "name": "stderr",
     "output_type": "stream",
     "text": [
      "<>:1: SyntaxWarning: invalid escape sequence '\\P'\n",
      "<>:1: SyntaxWarning: invalid escape sequence '\\P'\n",
      "C:\\Users\\mcken\\AppData\\Local\\Temp\\ipykernel_29628\\1617321775.py:1: SyntaxWarning: invalid escape sequence '\\P'\n",
      "  n = open(\"Data\\Park_visitor_data_1.json\",\"r\")\n"
     ]
    }
   ],
   "source": [
    "n = open(\"Data\\Park_visitor_data_1.json\",\"r\")\n",
    "data = json.loads(n.read())"
   ]
  },
  {
   "cell_type": "code",
   "execution_count": 84,
   "id": "ef951a07",
   "metadata": {},
   "outputs": [
    {
     "data": {
      "text/plain": [
       "dict_items([('parks', [{'name': 'Acadia National Park', 'id': 'Q337396', 'visitor_history': [{'year': '1920', 'visitors': 66500.0}, {'year': '1930', 'visitors': 154734.0}, {'year': '1940', 'visitors': 382084.0}, {'year': '1950', 'visitors': 485220.0}, {'year': '1960', 'visitors': 1638200.0}, {'year': '1970', 'visitors': 2776300.0}, {'year': '1980', 'visitors': 2779666.0}, {'year': '1990', 'visitors': 2339591.0}, {'year': '2000', 'visitors': 2469238.0}, {'year': '2010', 'visitors': 2504208.0}, {'year': '2016', 'visitors': 3303393.0}, {'year': '2017', 'visitors': 3509271.0}, {'year': '2018', 'visitors': 3537575.0}, {'year': '2019', 'visitors': 3437286.0}, {'year': '2020', 'visitors': 2669034.0}], 'coordinates': {'longitude': -68.216666666, 'latitude': 44.35}}, {'name': 'Arches National Park', 'id': 'Q223969', 'visitor_history': [{'year': '1930', 'visitors': 400.0}, {'year': '1940', 'visitors': 2512.0}, {'year': '1950', 'visitors': 16257.0}, {'year': '1960', 'visitors': 71600.0}, {'year': '1970', 'visitors': 178500.0}, {'year': '1980', 'visitors': 290519.0}, {'year': '1990', 'visitors': 620719.0}, {'year': '2000', 'visitors': 786429.0}, {'year': '2010', 'visitors': 1014405.0}, {'year': '2016', 'visitors': 1585718.0}, {'year': '2017', 'visitors': 1539028.0}, {'year': '2018', 'visitors': 1663557.0}, {'year': '2019', 'visitors': 1659702.0}, {'year': '2020', 'visitors': 1000000.0}, {'year': '2020', 'visitors': 1238083.0}], 'coordinates': {'longitude': -109.54, 'latitude': 38.728055555}}, {'name': 'Badlands National Park', 'id': 'Q306216', 'visitor_history': [{'year': '1940', 'visitors': 181993.0}, {'year': '1950', 'visitors': 447654.0}, {'year': '1960', 'visitors': 878600.0}, {'year': '1970', 'visitors': 1303100.0}, {'year': '1980', 'visitors': 952652.0}, {'year': '1990', 'visitors': 1326475.0}, {'year': '2000', 'visitors': 1105824.0}, {'year': '2007', 'visitors': 886654.0}, {'year': '2010', 'visitors': 977778.0}, {'year': '2019', 'visitors': 970998.0}, {'year': '2020', 'visitors': 916932.0}], 'coordinates': {'longitude': -102.5, 'latitude': 43.75}}, {'name': 'Big Bend National Park', 'id': 'Q1427197', 'visitor_history': [{'year': '1950', 'visitors': 70325.0}, {'year': '1960', 'visitors': 75900.0}, {'year': '1970', 'visitors': 172600.0}, {'year': '1980', 'visitors': 174008.0}, {'year': '1990', 'visitors': 257378.0}, {'year': '2000', 'visitors': 262320.0}, {'year': '2010', 'visitors': 372330.0}, {'year': '2016', 'visitors': 388290.0}, {'year': '2017', 'visitors': 440276.0}, {'year': '2018', 'visitors': 440091.0}, {'year': '2019', 'visitors': 463832.0}, {'year': '2020', 'visitors': 393907.0}], 'coordinates': {'longitude': -103.25, 'latitude': 29.25}}, {'name': 'Biscayne National Park', 'id': 'Q866080', 'visitor_history': [{'year': '1980', 'visitors': 248071.0}, {'year': '1990', 'visitors': 573376.0}, {'year': '2000', 'visitors': 393151.0}, {'year': '2010', 'visitors': 467612.0}, {'year': '2019', 'visitors': 708522.0}, {'year': '2020', 'visitors': 402770.0}], 'coordinates': {'longitude': -80.18096924, 'latitude': 25.50185493}}, {'name': 'Black Canyon of the Gunnison National Park', 'id': 'Q305880', 'visitor_history': [{'year': '1940', 'visitors': 19307.0}, {'year': '1950', 'visitors': 26487.0}, {'year': '1960', 'visitors': 122500.0}, {'year': '1970', 'visitors': 249000.0}, {'year': '1980', 'visitors': 336119.0}, {'year': '1990', 'visitors': 275323.0}, {'year': '2000', 'visitors': 191506.0}, {'year': '2010', 'visitors': 176344.0}, {'year': '2016', 'visitors': 238018.0}, {'year': '2017', 'visitors': 307143.0}, {'year': '2018', 'visitors': 308962.0}, {'year': '2019', 'visitors': 432818.0}, {'year': '2020', 'visitors': 341620.0}], 'coordinates': {'longitude': -107.716666666, 'latitude': 38.566666666}}, {'name': 'Bryce Canyon National Park', 'id': 'Q219562', 'visitor_history': [{'year': '1930', 'visitors': 35982.0}, {'year': '1940', 'visitors': 103362.0}, {'year': '1950', 'visitors': 212976.0}, {'year': '1960', 'visitors': 272000.0}, {'year': '1970', 'visitors': 345900.0}, {'year': '1980', 'visitors': 571541.0}, {'year': '1990', 'visitors': 862659.0}, {'year': '2000', 'visitors': 1099275.0}, {'year': '2010', 'visitors': 1285492.0}, {'year': '2018', 'visitors': 2679478.0}, {'year': '2019', 'visitors': 2594904.0}, {'year': '2020', 'visitors': 1464655.0}], 'coordinates': {'longitude': -112.17, 'latitude': 37.64}}, {'name': 'Canyonlands National Park', 'id': 'Q541856', 'visitor_history': [{'year': '1970', 'visitors': 33400.0}, {'year': '1980', 'visitors': 56505.0}, {'year': '1990', 'visitors': 276831.0}, {'year': '2000', 'visitors': 401558.0}, {'year': '2010', 'visitors': 435908.0}, {'year': '2016', 'visitors': 776218.0}, {'year': '2017', 'visitors': 742271.0}, {'year': '2018', 'visitors': 739449.0}, {'year': '2019', 'visitors': 733996.0}, {'year': '2020', 'visitors': 493914.0}], 'coordinates': {'longitude': -109.76, 'latitude': 38.1669}}, {'name': 'Capitol Reef National Park', 'id': 'Q129902', 'visitor_history': [{'year': '1940', 'visitors': 2000.0}, {'year': '1950', 'visitors': 3066.0}, {'year': '1960', 'visitors': 102500.0}, {'year': '1970', 'visitors': 225900.0}, {'year': '1980', 'visitors': 342788.0}, {'year': '1990', 'visitors': 562477.0}, {'year': '2000', 'visitors': 612656.0}, {'year': '2010', 'visitors': 662661.0}, {'year': '2016', 'visitors': 1064904.0}, {'year': '2017', 'visitors': 1150165.0}, {'year': '2018', 'visitors': 1227627.0}, {'year': '2019', 'visitors': 1226519.0}, {'year': '2020', 'visitors': 981038.0}], 'coordinates': {'longitude': -111.167, 'latitude': 38.2}}, {'name': 'Carlsbad Caverns National Park', 'id': 'Q273195', 'visitor_history': [{'year': '1930', 'visitors': 90104.0}, {'year': '1940', 'visitors': 236653.0}, {'year': '1950', 'visitors': 467283.0}, {'year': '1960', 'visitors': 537000.0}, {'year': '1970', 'visitors': 712700.0}, {'year': '1980', 'visitors': 672963.0}, {'year': '1990', 'visitors': 747016.0}, {'year': '2000', 'visitors': 469303.0}, {'year': '2010', 'visitors': 428524.0}, {'year': '2017', 'visitors': 520026.0}, {'year': '2018', 'visitors': 465912.0}, {'year': '2019', 'visitors': 440691.0}, {'year': '2020', 'visitors': 183835.0}], 'coordinates': {'longitude': -104.443888888, 'latitude': 32.175277777}}, {'name': 'Channel Islands National Park', 'id': 'Q306193', 'visitor_history': [{'year': '1970', 'visitors': 32000.0}, {'year': '1980', 'visitors': 104574.0}, {'year': '1990', 'visitors': 144083.0}, {'year': '2000', 'visitors': 482571.0}, {'year': '2010', 'visitors': 277515.0}, {'year': '2011', 'visitors': 242756.0}, {'year': '2012', 'visitors': 249594.0}, {'year': '2013', 'visitors': 212029.0}, {'year': '2014', 'visitors': 342161.0}, {'year': '2015', 'visitors': 324816.0}, {'year': '2016', 'visitors': 364807.0}, {'year': '2017', 'visitors': 383687.0}, {'year': '2018', 'visitors': 366250.0}, {'year': '2019', 'visitors': 409630.0}, {'year': '2020', 'visitors': 167290.0}, {'year': '2021', 'visitors': 319252.0}, {'year': '2022', 'visitors': 323245.0}], 'coordinates': {'longitude': -119.64, 'latitude': 33.66}}, {'name': 'Congaree National Park', 'id': 'Q175688', 'visitor_history': [{'year': '1990', 'visitors': 23223.0}, {'year': '2000', 'visitors': 95619.0}, {'year': '2010', 'visitors': 121208.0}, {'year': '2012', 'visitors': 109685.0}, {'year': '2013', 'visitors': 120340.0}, {'year': '2014', 'visitors': 120122.0}, {'year': '2015', 'visitors': 87513.0}, {'year': '2016', 'visitors': 143843.0}, {'year': '2017', 'visitors': 159595.0}, {'year': '2018', 'visitors': 145929.0}, {'year': '2019', 'visitors': 159445.0}, {'year': '2020', 'visitors': 119306.0}], 'coordinates': {'longitude': -80.783333333, 'latitude': 33.783333333}}, {'name': 'Crater Lake National Park', 'id': 'Q239304', 'visitor_history': [{'year': '1910', 'visitors': 5000.0}, {'year': '1920', 'visitors': 20135.0}, {'year': '1930', 'visitors': 157693.0}, {'year': '1940', 'visitors': 252482.0}, {'year': '1950', 'visitors': 310796.0}, {'year': '1960', 'visitors': 397700.0}, {'year': '1970', 'visitors': 535000.0}, {'year': '1980', 'visitors': 455143.0}, {'year': '1990', 'visitors': 384941.0}, {'year': '2000', 'visitors': 426883.0}, {'year': '2010', 'visitors': 448319.0}, {'year': '2018', 'visitors': 720659.0}, {'year': '2019', 'visitors': 704512.0}, {'year': '2020', 'visitors': 670500.0}], 'coordinates': {'longitude': -122.148055555, 'latitude': 42.911944444}}, {'name': 'Cuyahoga Valley National Park', 'id': 'Q152820', 'visitor_history': [{'year': '1980', 'visitors': 563300.0}, {'year': '1990', 'visitors': 1200622.0}, {'year': '2000', 'visitors': 3324918.0}, {'year': '2010', 'visitors': 2492670.0}, {'year': '2015', 'visitors': 2284612.0}, {'year': '2016', 'visitors': 2423390.0}, {'year': '2017', 'visitors': 2226879.0}, {'year': '2018', 'visitors': 2096053.0}, {'year': '2019', 'visitors': 2237997.0}, {'year': '2020', 'visitors': 2755628.0}], 'coordinates': {'longitude': -81.549722222, 'latitude': 41.241666666}}, {'name': 'Death Valley National Park', 'id': 'Q242111', 'visitor_history': [{'year': '1940', 'visitors': 80842.0}, {'year': '1950', 'visitors': 189045.0}, {'year': '1960', 'visitors': 355900.0}, {'year': '1970', 'visitors': 580500.0}, {'year': '1980', 'visitors': 618140.0}, {'year': '1990', 'visitors': 690965.0}, {'year': '2000', 'visitors': 1179094.0}, {'year': '2010', 'visitors': 984775.0}, {'year': '2011', 'visitors': 946867.0}, {'year': '2012', 'visitors': 984568.0}, {'year': '2013', 'visitors': 951972.0}, {'year': '2014', 'visitors': 1101312.0}, {'year': '2015', 'visitors': 1154843.0}, {'year': '2016', 'visitors': 1296283.0}, {'year': '2017', 'visitors': 1294827.0}, {'year': '2018', 'visitors': 1678660.0}, {'year': '2019', 'visitors': 1740945.0}, {'year': '2020', 'visitors': 820023.0}, {'year': '2021', 'visitors': 1146551.0}, {'year': '2022', 'visitors': 1128862.0}], 'coordinates': {'longitude': -117.09091, 'latitude': 36.49363}}, {'name': 'Denali National Park and Preserve', 'id': 'Q217136', 'visitor_history': [{'year': '1930', 'visitors': 951.0}, {'year': '1940', 'visitors': 1201.0}, {'year': '1950', 'visitors': 6672.0}, {'year': '1960', 'visitors': 22500.0}, {'year': '1970', 'visitors': 46000.0}, {'year': '1980', 'visitors': 216361.0}, {'year': '1990', 'visitors': 546693.0}, {'year': '2000', 'visitors': 363983.0}, {'year': '2010', 'visitors': 378855.0}, {'year': '2018', 'visitors': 594660.0}, {'year': '2019', 'visitors': 601152.0}, {'year': '2020', 'visitors': 54850.0}], 'coordinates': {'longitude': -150.3, 'latitude': 63.2}}, {'name': 'Dry Tortugas National Park', 'id': 'Q1143655', 'visitor_history': [{'year': '1940', 'visitors': 1141.0}, {'year': '1950', 'visitors': 7025.0}, {'year': '1960', 'visitors': 8900.0}, {'year': '1970', 'visitors': 12900.0}, {'year': '1980', 'visitors': 8644.0}, {'year': '1990', 'visitors': 19402.0}, {'year': '2000', 'visitors': 83704.0}, {'year': '2010', 'visitors': 53890.0}, {'year': '2018', 'visitors': 56810.0}, {'year': '2019', 'visitors': 79200.0}, {'year': '2020', 'visitors': 48543.0}], 'coordinates': {'longitude': -82.873333333, 'latitude': 24.628611111}}, {'name': 'Everglades National Park', 'id': 'Q274131', 'visitor_history': [{'year': '1950', 'visitors': 123405.0}, {'year': '1960', 'visitors': 579200.0}, {'year': '1970', 'visitors': 1273500.0}, {'year': '1980', 'visitors': 744244.0}, {'year': '1990', 'visitors': 957925.0}, {'year': '2000', 'visitors': 995390.0}, {'year': '2010', 'visitors': 915538.0}, {'year': '2011', 'visitors': 934351.0}, {'year': '2016', 'visitors': 930907.0}, {'year': '2017', 'visitors': 1018557.0}, {'year': '2018', 'visitors': 597124.0}, {'year': '2019', 'visitors': 1118300.0}, {'year': '2020', 'visitors': 702319.0}], 'coordinates': {'longitude': -80.6875, 'latitude': 25.3125}}, {'name': 'Gates of the Arctic National Park and Preserve', 'id': 'Q605657', 'visitor_history': [{'year': '1990', 'visitors': 1010.0}, {'year': '2000', 'visitors': 11278.0}, {'year': '2010', 'visitors': 10840.0}, {'year': '2018', 'visitors': 9591.0}, {'year': '2019', 'visitors': 10518.0}, {'year': '2020', 'visitors': 2872.0}], 'coordinates': {'longitude': -153.3, 'latitude': 67.7833}}, {'name': 'Gateway Arch National Park', 'id': 'Q45234', 'visitor_history': [{'year': '1950', 'visitors': 27051.0}, {'year': '1960', 'visitors': 48500.0}, {'year': '1970', 'visitors': 1388600.0}, {'year': '1980', 'visitors': 1928825.0}, {'year': '1990', 'visitors': 2382612.0}, {'year': '2000', 'visitors': 3458956.0}, {'year': '2010', 'visitors': 2436110.0}, {'year': '2018', 'visitors': 2016180.0}, {'year': '2019', 'visitors': 2055309.0}, {'year': '2020', 'visitors': 486021.0}], 'coordinates': {'longitude': -90.185, 'latitude': 38.6246}}, {'name': 'Glacier Bay National Park and Preserve', 'id': 'Q261577', 'visitor_history': [{'year': '1960', 'visitors': 900.0}, {'year': '1970', 'visitors': 29700.0}, {'year': '1980', 'visitors': 95005.0}, {'year': '1990', 'visitors': 186427.0}, {'year': '2000', 'visitors': 384684.0}, {'year': '2010', 'visitors': 444530.0}, {'year': '2018', 'visitors': 597915.0}, {'year': '2019', 'visitors': 672087.0}, {'year': '2020', 'visitors': 5748.0}], 'coordinates': {'longitude': -137.0, 'latitude': 58.7}}, {'name': 'Glacier National Park', 'id': 'Q373567', 'visitor_history': [{'year': '1920', 'visitors': 22449.0}, {'year': '1930', 'visitors': 73776.0}, {'year': '1940', 'visitors': 177307.0}, {'year': '1950', 'visitors': 482298.0}, {'year': '1960', 'visitors': 724500.0}, {'year': '1970', 'visitors': 1241600.0}, {'year': '1980', 'visitors': 1474578.0}, {'year': '1990', 'visitors': 1986737.0}, {'year': '2000', 'visitors': 1728693.0}, {'year': '2010', 'visitors': 2200048.0}, {'year': '2018', 'visitors': 2965309.0}, {'year': '2019', 'visitors': 3049839.0}, {'year': '2020', 'visitors': 1698864.0}, {'year': '2021', 'visitors': 3081656.0}], 'coordinates': {'longitude': -113.8, 'latitude': 48.755}}, {'name': 'Grand Canyon National Park', 'id': 'Q220289', 'visitor_history': [{'year': '1920', 'visitors': 67315.0}, {'year': '1925', 'visitors': 134053.0}, {'year': '1930', 'visitors': 172763.0}, {'year': '1935', 'visitors': 206018.0}, {'year': '1940', 'visitors': 371613.0}, {'year': '1945', 'visitors': 169960.0}, {'year': '1950', 'visitors': 665039.0}, {'year': '1955', 'visitors': 892400.0}, {'year': '1960', 'visitors': 1187700.0}, {'year': '1965', 'visitors': 1689200.0}, {'year': '1970', 'visitors': 2258200.0}, {'year': '1975', 'visitors': 2625100.0}, {'year': '1980', 'visitors': 2304973.0}, {'year': '1985', 'visitors': 2711529.0}, {'year': '1990', 'visitors': 3776685.0}, {'year': '1995', 'visitors': 4460228.0}, {'year': '2000', 'visitors': 4460228.0}, {'year': '2005', 'visitors': 4401522.0}, {'year': '2010', 'visitors': 4388386.0}, {'year': '2015', 'visitors': 5520736.0}, {'year': '2020', 'visitors': 2897098.0}], 'coordinates': {'longitude': -112.122, 'latitude': 36.0553}}, {'name': 'Grand Teton National Park', 'id': 'Q222695', 'visitor_history': [{'year': '1930', 'visitors': 60000.0}, {'year': '1940', 'visitors': 103324.0}, {'year': '1950', 'visitors': 189286.0}, {'year': '1960', 'visitors': 1429900.0}, {'year': '1970', 'visitors': 3352500.0}, {'year': '1980', 'visitors': 2555627.0}, {'year': '1990', 'visitors': 1588253.0}, {'year': '2000', 'visitors': 2590624.0}, {'year': '2010', 'visitors': 2669374.0}, {'year': '2018', 'visitors': 3491151.0}, {'year': '2019', 'visitors': 3405614.0}, {'year': '2020', 'visitors': 3289638.0}], 'coordinates': {'longitude': -110.700833333, 'latitude': 43.833333333}}, {'name': 'Great Basin National Park', 'id': 'Q1137657', 'visitor_history': [{'year': '1940', 'visitors': 4943.0}, {'year': '1950', 'visitors': 8350.0}, {'year': '1960', 'visitors': 20700.0}, {'year': '1970', 'visitors': 41200.0}, {'year': '1980', 'visitors': 33383.0}, {'year': '1990', 'visitors': 65026.0}, {'year': '2000', 'visitors': 81045.0}, {'year': '2010', 'visitors': 88870.0}, {'year': '2018', 'visitors': 153094.0}, {'year': '2019', 'visitors': 131802.0}, {'year': '2020', 'visitors': 120248.0}], 'coordinates': {'longitude': -114.2197, 'latitude': 39.0058}}, {'name': 'Great Sand Dunes National Park and Preserve', 'id': 'Q609097', 'visitor_history': [{'year': '1940', 'visitors': 8419.0}, {'year': '1950', 'visitors': 19004.0}, {'year': '1960', 'visitors': 52700.0}, {'year': '1970', 'visitors': 205800.0}, {'year': '1980', 'visitors': 142427.0}, {'year': '1990', 'visitors': 272136.0}, {'year': '2000', 'visitors': 260789.0}, {'year': '2010', 'visitors': 283284.0}, {'year': '2018', 'visitors': 442905.0}, {'year': '2019', 'visitors': 527546.0}, {'year': '2020', 'visitors': 461532.0}], 'coordinates': {'longitude': -105.512222222, 'latitude': 37.732777777}}, {'name': 'Great Smoky Mountains National Park', 'id': 'Q464004', 'visitor_history': [{'year': '1940', 'visitors': 860960.0}, {'year': '1950', 'visitors': 1843620.0}, {'year': '1960', 'visitors': 4528600.0}, {'year': '1970', 'visitors': 6778500.0}, {'year': '1980', 'visitors': 8440953.0}, {'year': '1990', 'visitors': 8151769.0}, {'year': '2000', 'visitors': 10175812.0}, {'year': '2010', 'visitors': 9463538.0}, {'year': '2016', 'visitors': 11312786.0}, {'year': '2020', 'visitors': 12095720.0}], 'coordinates': {'longitude': -83.425, 'latitude': 35.611111111}}, {'name': 'Guadalupe Mountains National Park', 'id': 'Q370501', 'visitor_history': [{'year': '1980', 'visitors': 113825.0}, {'year': '1990', 'visitors': 192890.0}, {'year': '2000', 'visitors': 198762.0}, {'year': '2010', 'visitors': 192210.0}, {'year': '2017', 'visitors': 225257.0}, {'year': '2020', 'visitors': 151256.0}], 'coordinates': {'longitude': -104.866666666, 'latitude': 31.916666666}}, {'name': 'Haleakalā National Park', 'id': 'Q1137640', 'visitor_history': [{'year': '1960', 'visitors': 62100.0}, {'year': '1970', 'visitors': 197400.0}, {'year': '1980', 'visitors': 560238.0}, {'year': '1990', 'visitors': 1260601.0}, {'year': '2000', 'visitors': 1620083.0}, {'year': '2010', 'visitors': 1105606.0}, {'year': '2018', 'visitors': 1044084.0}, {'year': '2019', 'visitors': 994394.0}, {'year': '2020', 'visitors': 319147.0}], 'coordinates': {'longitude': -156.15515, 'latitude': 20.7204}}, {'name': 'Hawaiʻi Volcanoes National Park', 'id': 'Q205952', 'visitor_history': [{'year': '1930', 'visitors': 89578.0}, {'year': '1940', 'visitors': 287810.0}, {'year': '1950', 'visitors': 362245.0}, {'year': '1960', 'visitors': 709100.0}, {'year': '1970', 'visitors': 822300.0}, {'year': '1980', 'visitors': 1692338.0}, {'year': '1990', 'visitors': 1096816.0}, {'year': '2000', 'visitors': 1514636.0}, {'year': '2010', 'visitors': 1304667.0}, {'year': '2018', 'visitors': 1116891.0}, {'year': '2019', 'visitors': 1368376.0}, {'year': '2020', 'visitors': 589775.0}], 'coordinates': {'longitude': -155.12361, 'latitude': 19.40083}}, {'name': 'Hot Springs National Park', 'id': 'Q1143416', 'visitor_history': [{'year': '1910', 'visitors': 120000.0}, {'year': '1920', 'visitors': 162850.0}, {'year': '1930', 'visitors': 167062.0}, {'year': '1940', 'visitors': 182583.0}, {'year': '1950', 'visitors': 294955.0}, {'year': '1960', 'visitors': 719100.0}, {'year': '1970', 'visitors': 2092400.0}, {'year': '1980', 'visitors': 1160588.0}, {'year': '1990', 'visitors': 1123175.0}, {'year': '2000', 'visitors': 1338156.0}, {'year': '2010', 'visitors': 1311807.0}, {'year': '2018', 'visitors': 1506887.0}, {'year': '2019', 'visitors': 1467153.0}, {'year': '2020', 'visitors': 1348215.0}], 'coordinates': {'longitude': -93.053611111, 'latitude': 34.513611111}}, {'name': 'Indiana Dunes National Park', 'id': 'Q6023179', 'visitor_history': [{'year': '1980', 'visitors': 1222874.0}, {'year': '1990', 'visitors': 1919901.0}, {'year': '2000', 'visitors': 1820228.0}, {'year': '2010', 'visitors': 2150345.0}, {'year': '2018', 'visitors': 1756079.0}, {'year': '2019', 'visitors': 2134285.0}, {'year': '2020', 'visitors': 2293106.0}], 'coordinates': {'longitude': -87.108055555, 'latitude': 41.648055555}}, {'name': 'Isle Royale National Park', 'id': 'Q163515', 'visitor_history': [{'year': '1940', 'visitors': 2962.0}, {'year': '1950', 'visitors': 3100.0}, {'year': '1960', 'visitors': 6400.0}, {'year': '1970', 'visitors': 14400.0}, {'year': '1980', 'visitors': 14977.0}, {'year': '1990', 'visitors': 23495.0}, {'year': '2000', 'visitors': 21096.0}, {'year': '2010', 'visitors': 15793.0}, {'year': '2016', 'visitors': 24966.0}, {'year': '2020', 'visitors': 6493.0}], 'coordinates': {'longitude': -88.9092899, 'latitude': 47.9958654}}, {'name': 'Joshua Tree National Park', 'id': 'Q735202', 'visitor_history': [{'year': '1950', 'visitors': 79129.0}, {'year': '1960', 'visitors': 320100.0}, {'year': '1970', 'visitors': 643000.0}, {'year': '1980', 'visitors': 545357.0}, {'year': '1990', 'visitors': 1022396.0}, {'year': '2000', 'visitors': 1233935.0}, {'year': '2010', 'visitors': 1434976.0}, {'year': '2011', 'visitors': 1396237.0}, {'year': '2012', 'visitors': 1396117.0}, {'year': '2013', 'visitors': 1383340.0}, {'year': '2014', 'visitors': 1589904.0}, {'year': '2015', 'visitors': 2025756.0}, {'year': '2016', 'visitors': 2505286.0}, {'year': '2017', 'visitors': 2853619.0}, {'year': '2018', 'visitors': 2942382.0}, {'year': '2019', 'visitors': 2988547.0}, {'year': '2020', 'visitors': 2399542.0}, {'year': '2021', 'visitors': 3064400.0}, {'year': '2022', 'visitors': 3058294.0}], 'coordinates': {'longitude': -115.819308, 'latitude': 33.748381}}, {'name': 'Katmai National Park and Preserve', 'id': 'Q609902', 'visitor_history': [{'year': '1960', 'visitors': 600.0}, {'year': '1970', 'visitors': 11800.0}, {'year': '1980', 'visitors': 11824.0}, {'year': '1990', 'visitors': 40778.0}, {'year': '2000', 'visitors': 71389.0}, {'year': '2010', 'visitors': 55172.0}, {'year': '2016', 'visitors': 37818.0}, {'year': '2020', 'visitors': 51511.0}], 'coordinates': {'longitude': -155.0, 'latitude': 58.5}}, {'name': 'Kenai Fjords National Park', 'id': 'Q841503', 'visitor_history': [{'year': '1990', 'visitors': 66115.0}, {'year': '2000', 'visitors': 254790.0}, {'year': '2010', 'visitors': 297596.0}, {'year': '2018', 'visitors': 321596.0}, {'year': '2019', 'visitors': 356601.0}, {'year': '2020', 'visitors': 115882.0}], 'coordinates': {'longitude': -150.10857, 'latitude': 59.81571}}, {'name': 'Kings Canyon National Park', 'id': 'Q936623', 'visitor_history': [{'year': '1910', 'visitors': 1178.0}, {'year': '1920', 'visitors': 19661.0}, {'year': '1930', 'visitors': 43547.0}, {'year': '1940', 'visitors': 201545.0}, {'year': '1950', 'visitors': 337840.0}, {'year': '1960', 'visitors': 759800.0}, {'year': '1970', 'visitors': 1019000.0}, {'year': '1980', 'visitors': 819065.0}, {'year': '1990', 'visitors': 1062867.0}, {'year': '2000', 'visitors': 528987.0}, {'year': '2010', 'visitors': 598205.0}, {'year': '2011', 'visitors': 566810.0}, {'year': '2012', 'visitors': 591033.0}, {'year': '2013', 'visitors': 567544.0}, {'year': '2014', 'visitors': 502268.0}, {'year': '2015', 'visitors': 468106.0}, {'year': '2016', 'visitors': 607479.0}, {'year': '2017', 'visitors': 692932.0}, {'year': '2018', 'visitors': 699023.0}, {'year': '2019', 'visitors': 632110.0}, {'year': '2020', 'visitors': 415077.0}, {'year': '2021', 'visitors': 562918.0}, {'year': '2022', 'visitors': 640986.0}], 'coordinates': {'longitude': -118.672861111, 'latitude': 36.789280555}}, {'name': 'Kobuk Valley National Park', 'id': 'Q836264', 'visitor_history': [{'year': '1990', 'visitors': 2586.0}, {'year': '2000', 'visitors': 2646.0}, {'year': '2010', 'visitors': 3164.0}, {'year': '2018', 'visitors': 14937.0}, {'year': '2019', 'visitors': 15766.0}, {'year': '2020', 'visitors': 11185.0}], 'coordinates': {'longitude': -159.19889, 'latitude': 67.35336}}, {'name': 'Lake Clark National Park and Preserve', 'id': 'Q712296', 'visitor_history': [{'year': '1990', 'visitors': 10196.0}, {'year': '2000', 'visitors': 6493.0}, {'year': '2010', 'visitors': 9931.0}, {'year': '2018', 'visitors': 14479.0}, {'year': '2019', 'visitors': 17157.0}, {'year': '2020', 'visitors': 4948.0}], 'coordinates': {'longitude': -153.416666666, 'latitude': 60.966666666}}, {'name': 'Lassen Volcanic National Park', 'id': 'Q1163542', 'visitor_history': [{'year': '1920', 'visitors': 2000.0}, {'year': '1930', 'visitors': 31755.0}, {'year': '1940', 'visitors': 104619.0}, {'year': '1950', 'visitors': 183815.0}, {'year': '1960', 'visitors': 401800.0}, {'year': '1970', 'visitors': 466600.0}, {'year': '1980', 'visitors': 394425.0}, {'year': '1990', 'visitors': 460917.0}, {'year': '2000', 'visitors': 374911.0}, {'year': '2009', 'visitors': 365639.0}, {'year': '2010', 'visitors': 384570.0}, {'year': '2011', 'visitors': 351269.0}, {'year': '2012', 'visitors': 407653.0}, {'year': '2013', 'visitors': 427409.0}, {'year': '2014', 'visitors': 432977.0}, {'year': '2015', 'visitors': 468092.0}, {'year': '2016', 'visitors': 536068.0}, {'year': '2017', 'visitors': 507256.0}, {'year': '2018', 'visitors': 499435.0}, {'year': '2019', 'visitors': 517039.0}, {'year': '2020', 'visitors': 542274.0}, {'year': '2021', 'visitors': 359635.0}, {'year': '2022', 'visitors': 446291.0}], 'coordinates': {'longitude': -121.4275, 'latitude': 40.498055555}}, {'name': 'Mammoth Cave National Park', 'id': 'Q242681', 'visitor_history': [{'year': '1940', 'visitors': 117751.0}, {'year': '1950', 'visitors': 254187.0}, {'year': '1960', 'visitors': 519100.0}, {'year': '1970', 'visitors': 1726500.0}, {'year': '1980', 'visitors': 1495787.0}, {'year': '1990', 'visitors': 1924538.0}, {'year': '2000', 'visitors': 1749268.0}, {'year': '2010', 'visitors': 497225.0}, {'year': '2011', 'visitors': 483319.0}, {'year': '2020', 'visitors': 290392.0}], 'coordinates': {'longitude': -86.101111111, 'latitude': 37.186944444}}, {'name': 'Mesa Verde National Park', 'id': 'Q237128', 'visitor_history': [{'year': '1910', 'visitors': 250.0}, {'year': '1920', 'visitors': 2890.0}, {'year': '1930', 'visitors': 16656.0}, {'year': '1940', 'visitors': 36448.0}, {'year': '1950', 'visitors': 88184.0}, {'year': '1960', 'visitors': 225700.0}, {'year': '1970', 'visitors': 527200.0}, {'year': '1980', 'visitors': 539257.0}, {'year': '1990', 'visitors': 611375.0}, {'year': '2000', 'visitors': 452287.0}, {'year': '2006', 'visitors': 557248.0}, {'year': '2010', 'visitors': 559712.0}, {'year': '2020', 'visitors': 287477.0}], 'coordinates': {'longitude': -108.494444, 'latitude': 37.260375}}, {'name': 'Mount Rainier National Park', 'id': 'Q944329', 'visitor_history': [{'year': None, 'visitors': 1113601.0}, {'year': '1910', 'visitors': 8000.0}, {'year': '1920', 'visitors': 56491.0}, {'year': '1930', 'visitors': 265620.0}, {'year': '1940', 'visitors': 456637.0}, {'year': '1950', 'visitors': 573685.0}, {'year': '1960', 'visitors': 1538700.0}, {'year': '1970', 'visitors': 1925100.0}, {'year': '1980', 'visitors': 1268256.0}, {'year': '1990', 'visitors': 1327101.0}, {'year': '2000', 'visitors': 1344833.0}, {'year': '2010', 'visitors': 1191754.0}, {'year': '2020', 'visitors': 1160754.0}], 'coordinates': {'longitude': -121.75, 'latitude': 46.85}}, {'name': 'National Park of American Samoa', 'id': 'Q843075', 'visitor_history': [{'year': '2010', 'visitors': 3006.0}, {'year': '2020', 'visitors': 4819.0}], 'coordinates': {'longitude': -170.68333333, 'latitude': -14.25833333}}, {'name': 'New River Gorge National Park and Preserve', 'id': 'Q7011245', 'visitor_history': [{'year': '1990', 'visitors': 378035.0}, {'year': '2000', 'visitors': 1132531.0}, {'year': '2010', 'visitors': 1151213.0}, {'year': '2018', 'visitors': 1232627.0}, {'year': '2019', 'visitors': 1195721.0}, {'year': '2020', 'visitors': 1054374.0}], 'coordinates': {'longitude': -81.0817, 'latitude': 37.9608}}, {'name': 'North Cascades National Park', 'id': 'Q1163799', 'visitor_history': [{'year': '1970', 'visitors': 295000.0}, {'year': '1980', 'visitors': 796079.0}, {'year': '1990', 'visitors': 456444.0}, {'year': '2000', 'visitors': 25704.0}, {'year': '2010', 'visitors': 24659.0}, {'year': '2018', 'visitors': 30085.0}, {'year': '2019', 'visitors': 38208.0}, {'year': '2020', 'visitors': 30885.0}], 'coordinates': {'longitude': -120.911388888, 'latitude': 48.483055555}}, {'name': 'Olympic National Park', 'id': 'Q372093', 'visitor_history': [{'year': None, 'visitors': 3263761.0}, {'year': '1940', 'visitors': 91863.0}, {'year': '1950', 'visitors': 404125.0}, {'year': '1960', 'visitors': 1160400.0}, {'year': '1970', 'visitors': 2283100.0}, {'year': '1980', 'visitors': 2032418.0}, {'year': '1990', 'visitors': 2794903.0}, {'year': '2000', 'visitors': 3327722.0}, {'year': '2010', 'visitors': 2844563.0}, {'year': '2016', 'visitors': 3390221.0}, {'year': '2020', 'visitors': 2499177.0}], 'coordinates': {'longitude': -123.75, 'latitude': 47.7}}, {'name': 'Petrified Forest National Park', 'id': 'Q305949', 'visitor_history': [{'year': '1920', 'visitors': 30390.0}, {'year': '1930', 'visitors': 105433.0}, {'year': '1940', 'visitors': 199420.0}, {'year': '1950', 'visitors': 352889.0}, {'year': '1960', 'visitors': 911500.0}, {'year': '1970', 'visitors': 1151400.0}, {'year': '1980', 'visitors': 683121.0}, {'year': '1990', 'visitors': 844592.0}, {'year': '2000', 'visitors': 605192.0}, {'year': '2010', 'visitors': 664725.0}, {'year': '2018', 'visitors': 644922.0}, {'year': '2019', 'visitors': 643588.0}, {'year': '2020', 'visitors': 384483.0}], 'coordinates': {'longitude': -109.806, 'latitude': 35.0881}}, {'name': 'Pinnacles National Park', 'id': 'Q1783768', 'visitor_history': [{'year': '1930', 'visitors': 11862.0}, {'year': '1940', 'visitors': 25068.0}, {'year': '1950', 'visitors': 24814.0}, {'year': '1960', 'visitors': 72000.0}, {'year': '1970', 'visitors': 166200.0}, {'year': '1980', 'visitors': 163626.0}, {'year': '1990', 'visitors': 214268.0}, {'year': '2000', 'visitors': 162110.0}, {'year': '2010', 'visitors': 246575.0}, {'year': '2011', 'visitors': 393219.0}, {'year': '2012', 'visitors': 224476.0}, {'year': '2013', 'visitors': 237677.0}, {'year': '2014', 'visitors': 196635.0}, {'year': '2015', 'visitors': 206533.0}, {'year': '2016', 'visitors': 215555.0}, {'year': '2017', 'visitors': 233334.0}, {'year': '2018', 'visitors': 222152.0}, {'year': '2019', 'visitors': 177224.0}, {'year': '2020', 'visitors': 165740.0}, {'year': '2021', 'visitors': 348857.0}, {'year': '2022', 'visitors': 275023.0}], 'coordinates': {'longitude': -121.167, 'latitude': 36.4869}}, {'name': 'Redwood National and State Parks', 'id': 'Q191824', 'visitor_history': [{'year': '1980', 'visitors': 471710.0}, {'year': '1990', 'visitors': 348458.0}, {'year': '2000', 'visitors': 383253.0}, {'year': '2010', 'visitors': 418820.0}, {'year': '2011', 'visitors': 380167.0}, {'year': '2012', 'visitors': 352517.0}, {'year': '2013', 'visitors': 393364.0}, {'year': '2014', 'visitors': 429166.0}, {'year': '2015', 'visitors': 527143.0}, {'year': '2016', 'visitors': 536297.0}, {'year': '2017', 'visitors': 445000.0}, {'year': '2018', 'visitors': 482536.0}, {'year': '2019', 'visitors': 504722.0}, {'year': '2020', 'visitors': 265177.0}, {'year': '2021', 'visitors': 435879.0}, {'year': '2022', 'visitors': 458400.0}], 'coordinates': {'longitude': -124.058333, 'latitude': 41.529167}}, {'name': 'Rocky Mountain National Park', 'id': 'Q777183', 'visitor_history': [{'year': '1920', 'visitors': 240966.0}, {'year': '1930', 'visitors': 255874.0}, {'year': '1940', 'visitors': 627847.0}, {'year': '1950', 'visitors': 1275160.0}, {'year': '1960', 'visitors': 1532500.0}, {'year': '1970', 'visitors': 2357900.0}, {'year': '1980', 'visitors': 2641937.0}, {'year': '1990', 'visitors': 2647323.0}, {'year': '2000', 'visitors': 3185392.0}, {'year': '2010', 'visitors': 2955821.0}, {'year': '2018', 'visitors': 4590493.0}, {'year': '2019', 'visitors': 4670053.0}, {'year': '2020', 'visitors': 3305199.0}], 'coordinates': {'longitude': -105.6833, 'latitude': 40.35}}, {'name': 'Saguaro National Park', 'id': 'Q676206', 'visitor_history': [{'year': '1920', 'visitors': 5000.0}, {'year': '1930', 'visitors': 50000.0}, {'year': '1940', 'visitors': 16892.0}, {'year': '1950', 'visitors': 36220.0}, {'year': '1960', 'visitors': 141000.0}, {'year': '1970', 'visitors': 351800.0}, {'year': '1980', 'visitors': 611317.0}, {'year': '1990', 'visitors': 702328.0}, {'year': '2000', 'visitors': 765195.0}, {'year': '2010', 'visitors': 717614.0}, {'year': '2018', 'visitors': 957405.0}, {'year': '2019', 'visitors': 1020226.0}, {'year': '2020', 'visitors': 762226.0}], 'coordinates': {'longitude': -110.5, 'latitude': 32.25}}, {'name': 'Sequoia National Park', 'id': 'Q152660', 'visitor_history': [{'year': '1910', 'visitors': 2407.0}, {'year': '1920', 'visitors': 31508.0}, {'year': '1930', 'visitors': 129221.0}, {'year': '1940', 'visitors': 282198.0}, {'year': '1950', 'visitors': 379218.0}, {'year': '1960', 'visitors': 610800.0}, {'year': '1970', 'visitors': 875700.0}, {'year': '1980', 'visitors': 862397.0}, {'year': '1990', 'visitors': 1063538.0}, {'year': '2000', 'visitors': 838947.0}, {'year': '2010', 'visitors': 1002979.0}, {'year': '2011', 'visitors': 1006583.0}, {'year': '2012', 'visitors': 1106584.0}, {'year': '2013', 'visitors': 909274.0}, {'year': '2014', 'visitors': 1039137.0}, {'year': '2015', 'visitors': 1097464.0}, {'year': '2016', 'visitors': 1254688.0}, {'year': '2017', 'visitors': 1291256.0}, {'year': '2018', 'visitors': 1229594.0}, {'year': '2019', 'visitors': 1246053.0}, {'year': '2020', 'visitors': 796086.0}, {'year': '2021', 'visitors': 1059548.0}, {'year': '2022', 'visitors': 1153198.0}], 'coordinates': {'longitude': -118.772777777, 'latitude': 36.564722222}}, {'name': 'Shenandoah National Park', 'id': 'Q1137401', 'visitor_history': [{'year': '1940', 'visitors': 950807.0}, {'year': '1950', 'visitors': 1279387.0}, {'year': '1960', 'visitors': 1780100.0}, {'year': '1970', 'visitors': 2411500.0}, {'year': '1980', 'visitors': 1699228.0}, {'year': '1990', 'visitors': 1771780.0}, {'year': '2000', 'visitors': 1419579.0}, {'year': '2010', 'visitors': 1253386.0}, {'year': '2018', 'visitors': 1264880.0}, {'year': '2019', 'visitors': 1425507.0}, {'year': '2020', 'visitors': 1666265.0}], 'coordinates': {'longitude': -78.35, 'latitude': 38.5333}}, {'name': 'Theodore Roosevelt National Park', 'id': 'Q1137669', 'visitor_history': [{'year': '1950', 'visitors': 71447.0}, {'year': '1960', 'visitors': 223200.0}, {'year': '1970', 'visitors': 680000.0}, {'year': '1980', 'visitors': 595734.0}, {'year': '1990', 'visitors': 460718.0}, {'year': '2000', 'visitors': 431813.0}, {'year': '2010', 'visitors': 623748.0}, {'year': '2018', 'visitors': 749389.0}, {'year': '2019', 'visitors': 691658.0}, {'year': '2020', 'visitors': 551303.0}], 'coordinates': {'longitude': -103.45, 'latitude': 46.966666666}}, {'name': 'Virgin Islands National Park', 'id': 'Q491005', 'visitor_history': [{'year': '1960', 'visitors': 27200.0}, {'year': '1970', 'visitors': 126600.0}, {'year': '1980', 'visitors': 547918.0}, {'year': '1990', 'visitors': 664735.0}, {'year': '2000', 'visitors': 703992.0}, {'year': '2010', 'visitors': 493477.0}, {'year': '2018', 'visitors': 112287.0}, {'year': '2019', 'visitors': 133398.0}, {'year': '2020', 'visitors': 167540.0}], 'coordinates': {'longitude': -64.933333333, 'latitude': 18.328055555}}, {'name': 'Voyageurs National Park', 'id': 'Q1368788', 'visitor_history': [{'year': '1980', 'visitors': 266935.0}, {'year': '1990', 'visitors': 223554.0}, {'year': '2000', 'visitors': 227371.0}, {'year': '2010', 'visitors': 253891.0}, {'year': '2018', 'visitors': 239656.0}, {'year': '2019', 'visitors': 232974.0}, {'year': '2020', 'visitors': 263091.0}], 'coordinates': {'longitude': -92.883333333, 'latitude': 48.5}}, {'name': 'White Sands National Park', 'id': 'Q1200164', 'visitor_history': [{'year': '1940', 'visitors': 54498.0}, {'year': '1950', 'visitors': 180607.0}, {'year': '1960', 'visitors': 378500.0}, {'year': '1970', 'visitors': 515100.0}, {'year': '1980', 'visitors': 511476.0}, {'year': '1990', 'visitors': 582487.0}, {'year': '2000', 'visitors': 515229.0}, {'year': '2010', 'visitors': 470921.0}, {'year': '2017', 'visitors': 612468.0}, {'year': '2020', 'visitors': 415383.0}], 'coordinates': {'longitude': -106.171667, 'latitude': 32.779722}}, {'name': 'Wind Cave National Park', 'id': 'Q1334313', 'visitor_history': [{'year': '1910', 'visitors': 3387.0}, {'year': '1920', 'visitors': 38000.0}, {'year': '1930', 'visitors': 88000.0}, {'year': '1940', 'visitors': 18028.0}, {'year': '1950', 'visitors': 79344.0}, {'year': '1960', 'visitors': 864600.0}, {'year': '1970', 'visitors': 997100.0}, {'year': '1980', 'visitors': 473061.0}, {'year': '1990', 'visitors': 586464.0}, {'year': '2000', 'visitors': 668507.0}, {'year': '2010', 'visitors': 577141.0}, {'year': '2018', 'visitors': 656397.0}, {'year': '2019', 'visitors': 615350.0}, {'year': '2020', 'visitors': 448405.0}], 'coordinates': {'longitude': -103.47865, 'latitude': 43.55635}}, {'name': 'Wrangell–St. Elias National Park and Preserve', 'id': 'Q748597', 'visitor_history': [{'year': '1990', 'visitors': 35976.0}, {'year': '2000', 'visitors': 28331.0}, {'year': '2010', 'visitors': 73170.0}, {'year': '2012', 'visitors': 87158.0}, {'year': '2020', 'visitors': 16655.0}], 'coordinates': {'longitude': -142.953611111, 'latitude': 61.435}}, {'name': 'Yellowstone National Park', 'id': 'Q351', 'visitor_history': [{'year': '1910', 'visitors': 19575.0}, {'year': '1920', 'visitors': 79777.0}, {'year': '1930', 'visitors': 227901.0}, {'year': '1940', 'visitors': 526437.0}, {'year': '1950', 'visitors': 1110524.0}, {'year': '1960', 'visitors': 1443300.0}, {'year': '1970', 'visitors': 2297300.0}, {'year': '1980', 'visitors': 2000269.0}, {'year': '1990', 'visitors': 2823572.0}, {'year': '2000', 'visitors': 2838233.0}, {'year': '2006', 'visitors': 2870295.0}, {'year': '2010', 'visitors': 3640185.0}, {'year': '2015', 'visitors': 4097710.0}, {'year': '2016', 'visitors': 4257177.0}, {'year': '2020', 'visitors': 3806306.0}], 'coordinates': {'longitude': -110.5, 'latitude': 44.6}}, {'name': 'Yosemite National Park', 'id': 'Q180402', 'visitor_history': [{'year': '1910', 'visitors': 13619.0}, {'year': '1920', 'visitors': 68906.0}, {'year': '1930', 'visitors': 458566.0}, {'year': '1940', 'visitors': 506781.0}, {'year': '1950', 'visitors': 820953.0}, {'year': '1960', 'visitors': 1150400.0}, {'year': '1970', 'visitors': 2277200.0}, {'year': '1980', 'visitors': 2490282.0}, {'year': '1990', 'visitors': 3124939.0}, {'year': '2000', 'visitors': 3400903.0}, {'year': '2006', 'visitors': 3242644.0}, {'year': '2010', 'visitors': 3901408.0}, {'year': '2011', 'visitors': 3951393.0}, {'year': '2012', 'visitors': 3853404.0}, {'year': '2013', 'visitors': 3691191.0}, {'year': '2014', 'visitors': 3882642.0}, {'year': '2015', 'visitors': 4150217.0}, {'year': '2016', 'visitors': 5028868.0}, {'year': '2017', 'visitors': 4336890.0}, {'year': '2018', 'visitors': 4009436.0}, {'year': '2019', 'visitors': 4422861.0}, {'year': '2020', 'visitors': 2268313.0}, {'year': '2021', 'visitors': 3287595.0}, {'year': '2022', 'visitors': 3667550.0}], 'coordinates': {'longitude': -119.5375, 'latitude': 37.7425}}, {'name': 'Zion National Park', 'id': 'Q205325', 'visitor_history': [{'year': '1920', 'visitors': 3692.0}, {'year': '1925', 'visitors': 16817.0}, {'year': '1930', 'visitors': 55297.0}, {'year': '1935', 'visitors': 97280.0}, {'year': '1940', 'visitors': 165029.0}, {'year': '1945', 'visitors': 78280.0}, {'year': '1950', 'visitors': 323402.0}, {'year': '1955', 'visitors': 406800.0}, {'year': '1960', 'visitors': 575800.0}, {'year': '1965', 'visitors': 763600.0}, {'year': '1970', 'visitors': 903600.0}, {'year': '1975', 'visitors': 1055200.0}, {'year': '1980', 'visitors': 1123846.0}, {'year': '1985', 'visitors': 1503272.0}, {'year': '1990', 'visitors': 2102400.0}, {'year': '1995', 'visitors': 2430162.0}, {'year': '2000', 'visitors': 2432348.0}, {'year': '2005', 'visitors': 2586665.0}, {'year': '2010', 'visitors': 2665972.0}, {'year': '2015', 'visitors': 3648846.0}, {'year': '2020', 'visitors': 3591254.0}], 'coordinates': {'longitude': -112.98785, 'latitude': 37.202619444}}]), ('total', 63)])"
      ]
     },
     "execution_count": 84,
     "metadata": {},
     "output_type": "execute_result"
    }
   ],
   "source": [
    "data.items()"
   ]
  },
  {
   "cell_type": "code",
   "execution_count": 85,
   "id": "af5d64a4",
   "metadata": {},
   "outputs": [
    {
     "data": {
      "text/html": [
       "<div>\n",
       "<style scoped>\n",
       "    .dataframe tbody tr th:only-of-type {\n",
       "        vertical-align: middle;\n",
       "    }\n",
       "\n",
       "    .dataframe tbody tr th {\n",
       "        vertical-align: top;\n",
       "    }\n",
       "\n",
       "    .dataframe thead th {\n",
       "        text-align: right;\n",
       "    }\n",
       "</style>\n",
       "<table border=\"1\" class=\"dataframe\">\n",
       "  <thead>\n",
       "    <tr style=\"text-align: right;\">\n",
       "      <th></th>\n",
       "      <th>name</th>\n",
       "      <th>id</th>\n",
       "      <th>visitor_history</th>\n",
       "      <th>coordinates</th>\n",
       "    </tr>\n",
       "  </thead>\n",
       "  <tbody>\n",
       "    <tr>\n",
       "      <th>0</th>\n",
       "      <td>Acadia National Park</td>\n",
       "      <td>Q337396</td>\n",
       "      <td>[{'year': '1920', 'visitors': 66500.0}, {'year...</td>\n",
       "      <td>{'longitude': -68.216666666, 'latitude': 44.35}</td>\n",
       "    </tr>\n",
       "    <tr>\n",
       "      <th>1</th>\n",
       "      <td>Arches National Park</td>\n",
       "      <td>Q223969</td>\n",
       "      <td>[{'year': '1930', 'visitors': 400.0}, {'year':...</td>\n",
       "      <td>{'longitude': -109.54, 'latitude': 38.728055555}</td>\n",
       "    </tr>\n",
       "    <tr>\n",
       "      <th>2</th>\n",
       "      <td>Badlands National Park</td>\n",
       "      <td>Q306216</td>\n",
       "      <td>[{'year': '1940', 'visitors': 181993.0}, {'yea...</td>\n",
       "      <td>{'longitude': -102.5, 'latitude': 43.75}</td>\n",
       "    </tr>\n",
       "    <tr>\n",
       "      <th>3</th>\n",
       "      <td>Big Bend National Park</td>\n",
       "      <td>Q1427197</td>\n",
       "      <td>[{'year': '1950', 'visitors': 70325.0}, {'year...</td>\n",
       "      <td>{'longitude': -103.25, 'latitude': 29.25}</td>\n",
       "    </tr>\n",
       "    <tr>\n",
       "      <th>4</th>\n",
       "      <td>Biscayne National Park</td>\n",
       "      <td>Q866080</td>\n",
       "      <td>[{'year': '1980', 'visitors': 248071.0}, {'yea...</td>\n",
       "      <td>{'longitude': -80.18096924, 'latitude': 25.501...</td>\n",
       "    </tr>\n",
       "    <tr>\n",
       "      <th>...</th>\n",
       "      <td>...</td>\n",
       "      <td>...</td>\n",
       "      <td>...</td>\n",
       "      <td>...</td>\n",
       "    </tr>\n",
       "    <tr>\n",
       "      <th>58</th>\n",
       "      <td>Wind Cave National Park</td>\n",
       "      <td>Q1334313</td>\n",
       "      <td>[{'year': '1910', 'visitors': 3387.0}, {'year'...</td>\n",
       "      <td>{'longitude': -103.47865, 'latitude': 43.55635}</td>\n",
       "    </tr>\n",
       "    <tr>\n",
       "      <th>59</th>\n",
       "      <td>Wrangell–St. Elias National Park and Preserve</td>\n",
       "      <td>Q748597</td>\n",
       "      <td>[{'year': '1990', 'visitors': 35976.0}, {'year...</td>\n",
       "      <td>{'longitude': -142.953611111, 'latitude': 61.435}</td>\n",
       "    </tr>\n",
       "    <tr>\n",
       "      <th>60</th>\n",
       "      <td>Yellowstone National Park</td>\n",
       "      <td>Q351</td>\n",
       "      <td>[{'year': '1910', 'visitors': 19575.0}, {'year...</td>\n",
       "      <td>{'longitude': -110.5, 'latitude': 44.6}</td>\n",
       "    </tr>\n",
       "    <tr>\n",
       "      <th>61</th>\n",
       "      <td>Yosemite National Park</td>\n",
       "      <td>Q180402</td>\n",
       "      <td>[{'year': '1910', 'visitors': 13619.0}, {'year...</td>\n",
       "      <td>{'longitude': -119.5375, 'latitude': 37.7425}</td>\n",
       "    </tr>\n",
       "    <tr>\n",
       "      <th>62</th>\n",
       "      <td>Zion National Park</td>\n",
       "      <td>Q205325</td>\n",
       "      <td>[{'year': '1920', 'visitors': 3692.0}, {'year'...</td>\n",
       "      <td>{'longitude': -112.98785, 'latitude': 37.20261...</td>\n",
       "    </tr>\n",
       "  </tbody>\n",
       "</table>\n",
       "<p>63 rows × 4 columns</p>\n",
       "</div>"
      ],
      "text/plain": [
       "                                             name        id  \\\n",
       "0                            Acadia National Park   Q337396   \n",
       "1                            Arches National Park   Q223969   \n",
       "2                          Badlands National Park   Q306216   \n",
       "3                          Big Bend National Park  Q1427197   \n",
       "4                          Biscayne National Park   Q866080   \n",
       "..                                            ...       ...   \n",
       "58                        Wind Cave National Park  Q1334313   \n",
       "59  Wrangell–St. Elias National Park and Preserve   Q748597   \n",
       "60                      Yellowstone National Park      Q351   \n",
       "61                         Yosemite National Park   Q180402   \n",
       "62                             Zion National Park   Q205325   \n",
       "\n",
       "                                      visitor_history  \\\n",
       "0   [{'year': '1920', 'visitors': 66500.0}, {'year...   \n",
       "1   [{'year': '1930', 'visitors': 400.0}, {'year':...   \n",
       "2   [{'year': '1940', 'visitors': 181993.0}, {'yea...   \n",
       "3   [{'year': '1950', 'visitors': 70325.0}, {'year...   \n",
       "4   [{'year': '1980', 'visitors': 248071.0}, {'yea...   \n",
       "..                                                ...   \n",
       "58  [{'year': '1910', 'visitors': 3387.0}, {'year'...   \n",
       "59  [{'year': '1990', 'visitors': 35976.0}, {'year...   \n",
       "60  [{'year': '1910', 'visitors': 19575.0}, {'year...   \n",
       "61  [{'year': '1910', 'visitors': 13619.0}, {'year...   \n",
       "62  [{'year': '1920', 'visitors': 3692.0}, {'year'...   \n",
       "\n",
       "                                          coordinates  \n",
       "0     {'longitude': -68.216666666, 'latitude': 44.35}  \n",
       "1    {'longitude': -109.54, 'latitude': 38.728055555}  \n",
       "2            {'longitude': -102.5, 'latitude': 43.75}  \n",
       "3           {'longitude': -103.25, 'latitude': 29.25}  \n",
       "4   {'longitude': -80.18096924, 'latitude': 25.501...  \n",
       "..                                                ...  \n",
       "58    {'longitude': -103.47865, 'latitude': 43.55635}  \n",
       "59  {'longitude': -142.953611111, 'latitude': 61.435}  \n",
       "60            {'longitude': -110.5, 'latitude': 44.6}  \n",
       "61      {'longitude': -119.5375, 'latitude': 37.7425}  \n",
       "62  {'longitude': -112.98785, 'latitude': 37.20261...  \n",
       "\n",
       "[63 rows x 4 columns]"
      ]
     },
     "execution_count": 85,
     "metadata": {},
     "output_type": "execute_result"
    }
   ],
   "source": [
    "df = pd.DataFrame(data['parks'])\n",
    "df"
   ]
  },
  {
   "cell_type": "code",
   "execution_count": 86,
   "id": "6d6e6831",
   "metadata": {},
   "outputs": [],
   "source": [
    "dfClean0 = df.copy()"
   ]
  },
  {
   "cell_type": "code",
   "execution_count": 87,
   "id": "693b1670",
   "metadata": {},
   "outputs": [
    {
     "data": {
      "text/plain": [
       "array([ True])"
      ]
     },
     "execution_count": 87,
     "metadata": {},
     "output_type": "execute_result"
    }
   ],
   "source": [
    "dfClean0['name'].notnull().unique()"
   ]
  },
  {
   "cell_type": "code",
   "execution_count": 88,
   "id": "713d86c8",
   "metadata": {},
   "outputs": [
    {
     "data": {
      "text/plain": [
       "array([ True])"
      ]
     },
     "execution_count": 88,
     "metadata": {},
     "output_type": "execute_result"
    }
   ],
   "source": [
    "dfClean0['id'].notnull().unique()"
   ]
  },
  {
   "cell_type": "code",
   "execution_count": 141,
   "id": "de10c4a1",
   "metadata": {},
   "outputs": [
    {
     "ename": "KeyError",
     "evalue": "'year'",
     "output_type": "error",
     "traceback": [
      "\u001b[1;31m---------------------------------------------------------------------------\u001b[0m",
      "\u001b[1;31mKeyError\u001b[0m                                  Traceback (most recent call last)",
      "Cell \u001b[1;32mIn[141], line 3\u001b[0m\n\u001b[0;32m      1\u001b[0m \u001b[38;5;28;01mfor\u001b[39;00m i \u001b[38;5;129;01min\u001b[39;00m dfClean0[\u001b[38;5;124m'\u001b[39m\u001b[38;5;124mvisitor_history\u001b[39m\u001b[38;5;124m'\u001b[39m]:\n\u001b[0;32m      2\u001b[0m     \u001b[38;5;28;01mfor\u001b[39;00m j \u001b[38;5;129;01min\u001b[39;00m i:\n\u001b[1;32m----> 3\u001b[0m         \u001b[38;5;28;01mif\u001b[39;00m (\u001b[43mj\u001b[49m\u001b[43m[\u001b[49m\u001b[38;5;124;43m'\u001b[39;49m\u001b[38;5;124;43myear\u001b[39;49m\u001b[38;5;124;43m'\u001b[39;49m\u001b[43m]\u001b[49m\u001b[38;5;241m==\u001b[39m\u001b[38;5;28;01mNone\u001b[39;00m):\n\u001b[0;32m      4\u001b[0m             \u001b[38;5;28mprint\u001b[39m(j)\n",
      "\u001b[1;31mKeyError\u001b[0m: 'year'"
     ]
    }
   ],
   "source": [
    "for i in dfClean0['visitor_history']:\n",
    "    for j in i:\n",
    "        if (j['year']==None):\n",
    "            print(j)"
   ]
  },
  {
   "cell_type": "code",
   "execution_count": 137,
   "id": "40bd4c36",
   "metadata": {},
   "outputs": [
    {
     "ename": "KeyError",
     "evalue": "'year'",
     "output_type": "error",
     "traceback": [
      "\u001b[1;31m---------------------------------------------------------------------------\u001b[0m",
      "\u001b[1;31mKeyError\u001b[0m                                  Traceback (most recent call last)",
      "Cell \u001b[1;32mIn[137], line 3\u001b[0m\n\u001b[0;32m      1\u001b[0m \u001b[38;5;28;01mfor\u001b[39;00m i \u001b[38;5;129;01min\u001b[39;00m (dfClean0[\u001b[38;5;124m'\u001b[39m\u001b[38;5;124mvisitor_history\u001b[39m\u001b[38;5;124m'\u001b[39m]):\n\u001b[0;32m      2\u001b[0m     \u001b[38;5;28;01mfor\u001b[39;00m j \u001b[38;5;129;01min\u001b[39;00m i:\n\u001b[1;32m----> 3\u001b[0m         \u001b[38;5;28;01mif\u001b[39;00m (\u001b[43mj\u001b[49m\u001b[43m[\u001b[49m\u001b[38;5;124;43m'\u001b[39;49m\u001b[38;5;124;43myear\u001b[39;49m\u001b[38;5;124;43m'\u001b[39;49m\u001b[43m]\u001b[49m \u001b[38;5;241m==\u001b[39m \u001b[38;5;28;01mNone\u001b[39;00m):\n\u001b[0;32m      4\u001b[0m             \u001b[38;5;28;01mdel\u001b[39;00m dfClean0[\u001b[38;5;124m'\u001b[39m\u001b[38;5;124mvisitor_history\u001b[39m\u001b[38;5;124m'\u001b[39m][j]\n\u001b[0;32m      5\u001b[0m         \u001b[38;5;28;01mif\u001b[39;00m (j[\u001b[38;5;124m'\u001b[39m\u001b[38;5;124mvisitors\u001b[39m\u001b[38;5;124m'\u001b[39m] \u001b[38;5;241m==\u001b[39m \u001b[38;5;28;01mNone\u001b[39;00m):\n",
      "\u001b[1;31mKeyError\u001b[0m: 'year'"
     ]
    }
   ],
   "source": [
    "for i in (dfClean0['visitor_history']):\n",
    "    for j in i:\n",
    "        if (j['year'] == None):\n",
    "            del dfClean0['visitor_history'][j]\n",
    "        if (j['visitors'] == None):\n",
    "            del dfClean0['visitor_history'][j]"
   ]
  },
  {
   "cell_type": "code",
   "execution_count": 116,
   "id": "eae42cc7",
   "metadata": {},
   "outputs": [
    {
     "data": {
      "text/plain": [
       "0     [{'year': '1920', 'visitors': 66500.0}, {'year...\n",
       "1     [{'year': '1930', 'visitors': 400.0}, {'year':...\n",
       "2     [{'year': '1940', 'visitors': 181993.0}, {'yea...\n",
       "3     [{'year': '1950', 'visitors': 70325.0}, {'year...\n",
       "4     [{'year': '1980', 'visitors': 248071.0}, {'yea...\n",
       "                            ...                        \n",
       "58    [{'year': '1910', 'visitors': 3387.0}, {'year'...\n",
       "59    [{'year': '1990', 'visitors': 35976.0}, {'year...\n",
       "60    [{'year': '1910', 'visitors': 19575.0}, {'year...\n",
       "61    [{'year': '1910', 'visitors': 13619.0}, {'year...\n",
       "62    [{'year': '1920', 'visitors': 3692.0}, {'year'...\n",
       "Name: visitor_history, Length: 63, dtype: object"
      ]
     },
     "execution_count": 116,
     "metadata": {},
     "output_type": "execute_result"
    }
   ],
   "source": [
    "dfClean0['visitor_history']"
   ]
  },
  {
   "cell_type": "code",
   "execution_count": null,
   "id": "a02658ea",
   "metadata": {},
   "outputs": [
    {
     "name": "stdout",
     "output_type": "stream",
     "text": [
      "0     [{'year': '1920', 'visitors': 66500.0}, {'year...\n",
      "1     [{'year': '1930', 'visitors': 400.0}, {'year':...\n",
      "2     [{'year': '1940', 'visitors': 181993.0}, {'yea...\n",
      "3     [{'year': '1950', 'visitors': 70325.0}, {'year...\n",
      "4     [{'year': '1980', 'visitors': 248071.0}, {'yea...\n",
      "                            ...                        \n",
      "58    [{'year': '1910', 'visitors': 3387.0}, {'year'...\n",
      "59    [{'year': '1990', 'visitors': 35976.0}, {'year...\n",
      "60    [{'year': '1910', 'visitors': 19575.0}, {'year...\n",
      "61    [{'year': '1910', 'visitors': 13619.0}, {'year...\n",
      "62    [{'year': '1920', 'visitors': 3692.0}, {'year'...\n",
      "Name: visitor_history, Length: 63, dtype: object\n"
     ]
    }
   ],
   "source": [
    "visdict = dfClean0['visitor_history']\n",
    "print(visdict)"
   ]
  },
  {
   "cell_type": "code",
   "execution_count": null,
   "id": "617464a4",
   "metadata": {},
   "outputs": [],
   "source": [
    "for i in visdict:\n",
    "    for j in i:\n",
    "        if (j['year'] == None):\n",
    "            del j['year']\n",
    "        if (j['visitors'] == None):\n",
    "            del j['year']"
   ]
  },
  {
   "cell_type": "code",
   "execution_count": 114,
   "id": "1e6d690a",
   "metadata": {},
   "outputs": [
    {
     "ename": "KeyError",
     "evalue": "'year'",
     "output_type": "error",
     "traceback": [
      "\u001b[1;31m---------------------------------------------------------------------------\u001b[0m",
      "\u001b[1;31mKeyError\u001b[0m                                  Traceback (most recent call last)",
      "Cell \u001b[1;32mIn[114], line 3\u001b[0m\n\u001b[0;32m      1\u001b[0m \u001b[38;5;28;01mfor\u001b[39;00m i \u001b[38;5;129;01min\u001b[39;00m (visdict):\n\u001b[0;32m      2\u001b[0m     \u001b[38;5;28;01mfor\u001b[39;00m j \u001b[38;5;129;01min\u001b[39;00m i:\n\u001b[1;32m----> 3\u001b[0m         \u001b[38;5;28;01mif\u001b[39;00m (\u001b[43mj\u001b[49m\u001b[43m[\u001b[49m\u001b[38;5;124;43m'\u001b[39;49m\u001b[38;5;124;43myear\u001b[39;49m\u001b[38;5;124;43m'\u001b[39;49m\u001b[43m]\u001b[49m \u001b[38;5;241m==\u001b[39m \u001b[38;5;28;01mNone\u001b[39;00m):\n\u001b[0;32m      4\u001b[0m             \u001b[38;5;28mprint\u001b[39m (j)\n\u001b[0;32m      5\u001b[0m         \u001b[38;5;28;01mif\u001b[39;00m (j[\u001b[38;5;124m'\u001b[39m\u001b[38;5;124mvisitors\u001b[39m\u001b[38;5;124m'\u001b[39m] \u001b[38;5;241m==\u001b[39m \u001b[38;5;28;01mNone\u001b[39;00m):\n",
      "\u001b[1;31mKeyError\u001b[0m: 'year'"
     ]
    }
   ],
   "source": [
    "for i in (visdict):\n",
    "    for j in i:\n",
    "        if (j['year'] == None):\n",
    "            print (j)\n",
    "        if (j['visitors'] == None):\n",
    "            print (j)"
   ]
  },
  {
   "cell_type": "code",
   "execution_count": null,
   "id": "b257048d",
   "metadata": {},
   "outputs": [],
   "source": []
  },
  {
   "cell_type": "code",
   "execution_count": null,
   "id": "f51c8522",
   "metadata": {},
   "outputs": [
    {
     "ename": "TypeError",
     "evalue": "list indices must be integers or slices, not str",
     "output_type": "error",
     "traceback": [
      "\u001b[1;31m---------------------------------------------------------------------------\u001b[0m",
      "\u001b[1;31mTypeError\u001b[0m                                 Traceback (most recent call last)",
      "Cell \u001b[1;32mIn[81], line 1\u001b[0m\n\u001b[1;32m----> 1\u001b[0m dfClean1 \u001b[38;5;241m=\u001b[39m \u001b[43mdf\u001b[49m\u001b[43m[\u001b[49m\u001b[38;5;124;43m'\u001b[39;49m\u001b[38;5;124;43mvisitor_history\u001b[39;49m\u001b[38;5;124;43m'\u001b[39;49m\u001b[43m]\u001b[49m\u001b[38;5;241;43m.\u001b[39;49m\u001b[43mapply\u001b[49m\u001b[43m(\u001b[49m\u001b[43mnaDrop\u001b[49m\u001b[43m)\u001b[49m\n",
      "File \u001b[1;32mc:\\Users\\mcken\\miniconda3\\Lib\\site-packages\\pandas\\core\\series.py:4935\u001b[0m, in \u001b[0;36mSeries.apply\u001b[1;34m(self, func, convert_dtype, args, by_row, **kwargs)\u001b[0m\n\u001b[0;32m   4800\u001b[0m \u001b[38;5;28;01mdef\u001b[39;00m\u001b[38;5;250m \u001b[39m\u001b[38;5;21mapply\u001b[39m(\n\u001b[0;32m   4801\u001b[0m     \u001b[38;5;28mself\u001b[39m,\n\u001b[0;32m   4802\u001b[0m     func: AggFuncType,\n\u001b[1;32m   (...)\u001b[0m\n\u001b[0;32m   4807\u001b[0m     \u001b[38;5;241m*\u001b[39m\u001b[38;5;241m*\u001b[39mkwargs,\n\u001b[0;32m   4808\u001b[0m ) \u001b[38;5;241m-\u001b[39m\u001b[38;5;241m>\u001b[39m DataFrame \u001b[38;5;241m|\u001b[39m Series:\n\u001b[0;32m   4809\u001b[0m \u001b[38;5;250m    \u001b[39m\u001b[38;5;124;03m\"\"\"\u001b[39;00m\n\u001b[0;32m   4810\u001b[0m \u001b[38;5;124;03m    Invoke function on values of Series.\u001b[39;00m\n\u001b[0;32m   4811\u001b[0m \n\u001b[1;32m   (...)\u001b[0m\n\u001b[0;32m   4926\u001b[0m \u001b[38;5;124;03m    dtype: float64\u001b[39;00m\n\u001b[0;32m   4927\u001b[0m \u001b[38;5;124;03m    \"\"\"\u001b[39;00m\n\u001b[0;32m   4928\u001b[0m     \u001b[38;5;28;01mreturn\u001b[39;00m \u001b[43mSeriesApply\u001b[49m\u001b[43m(\u001b[49m\n\u001b[0;32m   4929\u001b[0m \u001b[43m        \u001b[49m\u001b[38;5;28;43mself\u001b[39;49m\u001b[43m,\u001b[49m\n\u001b[0;32m   4930\u001b[0m \u001b[43m        \u001b[49m\u001b[43mfunc\u001b[49m\u001b[43m,\u001b[49m\n\u001b[0;32m   4931\u001b[0m \u001b[43m        \u001b[49m\u001b[43mconvert_dtype\u001b[49m\u001b[38;5;241;43m=\u001b[39;49m\u001b[43mconvert_dtype\u001b[49m\u001b[43m,\u001b[49m\n\u001b[0;32m   4932\u001b[0m \u001b[43m        \u001b[49m\u001b[43mby_row\u001b[49m\u001b[38;5;241;43m=\u001b[39;49m\u001b[43mby_row\u001b[49m\u001b[43m,\u001b[49m\n\u001b[0;32m   4933\u001b[0m \u001b[43m        \u001b[49m\u001b[43margs\u001b[49m\u001b[38;5;241;43m=\u001b[39;49m\u001b[43margs\u001b[49m\u001b[43m,\u001b[49m\n\u001b[0;32m   4934\u001b[0m \u001b[43m        \u001b[49m\u001b[43mkwargs\u001b[49m\u001b[38;5;241;43m=\u001b[39;49m\u001b[43mkwargs\u001b[49m\u001b[43m,\u001b[49m\n\u001b[1;32m-> 4935\u001b[0m \u001b[43m    \u001b[49m\u001b[43m)\u001b[49m\u001b[38;5;241;43m.\u001b[39;49m\u001b[43mapply\u001b[49m\u001b[43m(\u001b[49m\u001b[43m)\u001b[49m\n",
      "File \u001b[1;32mc:\\Users\\mcken\\miniconda3\\Lib\\site-packages\\pandas\\core\\apply.py:1422\u001b[0m, in \u001b[0;36mSeriesApply.apply\u001b[1;34m(self)\u001b[0m\n\u001b[0;32m   1419\u001b[0m     \u001b[38;5;28;01mreturn\u001b[39;00m \u001b[38;5;28mself\u001b[39m\u001b[38;5;241m.\u001b[39mapply_compat()\n\u001b[0;32m   1421\u001b[0m \u001b[38;5;66;03m# self.func is Callable\u001b[39;00m\n\u001b[1;32m-> 1422\u001b[0m \u001b[38;5;28;01mreturn\u001b[39;00m \u001b[38;5;28;43mself\u001b[39;49m\u001b[38;5;241;43m.\u001b[39;49m\u001b[43mapply_standard\u001b[49m\u001b[43m(\u001b[49m\u001b[43m)\u001b[49m\n",
      "File \u001b[1;32mc:\\Users\\mcken\\miniconda3\\Lib\\site-packages\\pandas\\core\\apply.py:1502\u001b[0m, in \u001b[0;36mSeriesApply.apply_standard\u001b[1;34m(self)\u001b[0m\n\u001b[0;32m   1496\u001b[0m \u001b[38;5;66;03m# row-wise access\u001b[39;00m\n\u001b[0;32m   1497\u001b[0m \u001b[38;5;66;03m# apply doesn't have a `na_action` keyword and for backward compat reasons\u001b[39;00m\n\u001b[0;32m   1498\u001b[0m \u001b[38;5;66;03m# we need to give `na_action=\"ignore\"` for categorical data.\u001b[39;00m\n\u001b[0;32m   1499\u001b[0m \u001b[38;5;66;03m# TODO: remove the `na_action=\"ignore\"` when that default has been changed in\u001b[39;00m\n\u001b[0;32m   1500\u001b[0m \u001b[38;5;66;03m#  Categorical (GH51645).\u001b[39;00m\n\u001b[0;32m   1501\u001b[0m action \u001b[38;5;241m=\u001b[39m \u001b[38;5;124m\"\u001b[39m\u001b[38;5;124mignore\u001b[39m\u001b[38;5;124m\"\u001b[39m \u001b[38;5;28;01mif\u001b[39;00m \u001b[38;5;28misinstance\u001b[39m(obj\u001b[38;5;241m.\u001b[39mdtype, CategoricalDtype) \u001b[38;5;28;01melse\u001b[39;00m \u001b[38;5;28;01mNone\u001b[39;00m\n\u001b[1;32m-> 1502\u001b[0m mapped \u001b[38;5;241m=\u001b[39m \u001b[43mobj\u001b[49m\u001b[38;5;241;43m.\u001b[39;49m\u001b[43m_map_values\u001b[49m\u001b[43m(\u001b[49m\n\u001b[0;32m   1503\u001b[0m \u001b[43m    \u001b[49m\u001b[43mmapper\u001b[49m\u001b[38;5;241;43m=\u001b[39;49m\u001b[43mcurried\u001b[49m\u001b[43m,\u001b[49m\u001b[43m \u001b[49m\u001b[43mna_action\u001b[49m\u001b[38;5;241;43m=\u001b[39;49m\u001b[43maction\u001b[49m\u001b[43m,\u001b[49m\u001b[43m \u001b[49m\u001b[43mconvert\u001b[49m\u001b[38;5;241;43m=\u001b[39;49m\u001b[38;5;28;43mself\u001b[39;49m\u001b[38;5;241;43m.\u001b[39;49m\u001b[43mconvert_dtype\u001b[49m\n\u001b[0;32m   1504\u001b[0m \u001b[43m\u001b[49m\u001b[43m)\u001b[49m\n\u001b[0;32m   1506\u001b[0m \u001b[38;5;28;01mif\u001b[39;00m \u001b[38;5;28mlen\u001b[39m(mapped) \u001b[38;5;129;01mand\u001b[39;00m \u001b[38;5;28misinstance\u001b[39m(mapped[\u001b[38;5;241m0\u001b[39m], ABCSeries):\n\u001b[0;32m   1507\u001b[0m     \u001b[38;5;66;03m# GH#43986 Need to do list(mapped) in order to get treated as nested\u001b[39;00m\n\u001b[0;32m   1508\u001b[0m     \u001b[38;5;66;03m#  See also GH#25959 regarding EA support\u001b[39;00m\n\u001b[0;32m   1509\u001b[0m     \u001b[38;5;28;01mreturn\u001b[39;00m obj\u001b[38;5;241m.\u001b[39m_constructor_expanddim(\u001b[38;5;28mlist\u001b[39m(mapped), index\u001b[38;5;241m=\u001b[39mobj\u001b[38;5;241m.\u001b[39mindex)\n",
      "File \u001b[1;32mc:\\Users\\mcken\\miniconda3\\Lib\\site-packages\\pandas\\core\\base.py:925\u001b[0m, in \u001b[0;36mIndexOpsMixin._map_values\u001b[1;34m(self, mapper, na_action, convert)\u001b[0m\n\u001b[0;32m    922\u001b[0m \u001b[38;5;28;01mif\u001b[39;00m \u001b[38;5;28misinstance\u001b[39m(arr, ExtensionArray):\n\u001b[0;32m    923\u001b[0m     \u001b[38;5;28;01mreturn\u001b[39;00m arr\u001b[38;5;241m.\u001b[39mmap(mapper, na_action\u001b[38;5;241m=\u001b[39mna_action)\n\u001b[1;32m--> 925\u001b[0m \u001b[38;5;28;01mreturn\u001b[39;00m \u001b[43malgorithms\u001b[49m\u001b[38;5;241;43m.\u001b[39;49m\u001b[43mmap_array\u001b[49m\u001b[43m(\u001b[49m\u001b[43marr\u001b[49m\u001b[43m,\u001b[49m\u001b[43m \u001b[49m\u001b[43mmapper\u001b[49m\u001b[43m,\u001b[49m\u001b[43m \u001b[49m\u001b[43mna_action\u001b[49m\u001b[38;5;241;43m=\u001b[39;49m\u001b[43mna_action\u001b[49m\u001b[43m,\u001b[49m\u001b[43m \u001b[49m\u001b[43mconvert\u001b[49m\u001b[38;5;241;43m=\u001b[39;49m\u001b[43mconvert\u001b[49m\u001b[43m)\u001b[49m\n",
      "File \u001b[1;32mc:\\Users\\mcken\\miniconda3\\Lib\\site-packages\\pandas\\core\\algorithms.py:1743\u001b[0m, in \u001b[0;36mmap_array\u001b[1;34m(arr, mapper, na_action, convert)\u001b[0m\n\u001b[0;32m   1741\u001b[0m values \u001b[38;5;241m=\u001b[39m arr\u001b[38;5;241m.\u001b[39mastype(\u001b[38;5;28mobject\u001b[39m, copy\u001b[38;5;241m=\u001b[39m\u001b[38;5;28;01mFalse\u001b[39;00m)\n\u001b[0;32m   1742\u001b[0m \u001b[38;5;28;01mif\u001b[39;00m na_action \u001b[38;5;129;01mis\u001b[39;00m \u001b[38;5;28;01mNone\u001b[39;00m:\n\u001b[1;32m-> 1743\u001b[0m     \u001b[38;5;28;01mreturn\u001b[39;00m \u001b[43mlib\u001b[49m\u001b[38;5;241;43m.\u001b[39;49m\u001b[43mmap_infer\u001b[49m\u001b[43m(\u001b[49m\u001b[43mvalues\u001b[49m\u001b[43m,\u001b[49m\u001b[43m \u001b[49m\u001b[43mmapper\u001b[49m\u001b[43m,\u001b[49m\u001b[43m \u001b[49m\u001b[43mconvert\u001b[49m\u001b[38;5;241;43m=\u001b[39;49m\u001b[43mconvert\u001b[49m\u001b[43m)\u001b[49m\n\u001b[0;32m   1744\u001b[0m \u001b[38;5;28;01melse\u001b[39;00m:\n\u001b[0;32m   1745\u001b[0m     \u001b[38;5;28;01mreturn\u001b[39;00m lib\u001b[38;5;241m.\u001b[39mmap_infer_mask(\n\u001b[0;32m   1746\u001b[0m         values, mapper, mask\u001b[38;5;241m=\u001b[39misna(values)\u001b[38;5;241m.\u001b[39mview(np\u001b[38;5;241m.\u001b[39muint8), convert\u001b[38;5;241m=\u001b[39mconvert\n\u001b[0;32m   1747\u001b[0m     )\n",
      "File \u001b[1;32mpandas/_libs/lib.pyx:2999\u001b[0m, in \u001b[0;36mpandas._libs.lib.map_infer\u001b[1;34m()\u001b[0m\n",
      "Cell \u001b[1;32mIn[80], line 2\u001b[0m, in \u001b[0;36mnaDrop\u001b[1;34m(df)\u001b[0m\n\u001b[0;32m      1\u001b[0m \u001b[38;5;28;01mdef\u001b[39;00m\u001b[38;5;250m \u001b[39m\u001b[38;5;21mnaDrop\u001b[39m(df):\n\u001b[1;32m----> 2\u001b[0m     \u001b[38;5;28;01mfor\u001b[39;00m i \u001b[38;5;129;01min\u001b[39;00m (\u001b[43mdf\u001b[49m\u001b[43m[\u001b[49m\u001b[38;5;124;43m'\u001b[39;49m\u001b[38;5;124;43mvisitor_history\u001b[39;49m\u001b[38;5;124;43m'\u001b[39;49m\u001b[43m]\u001b[49m):\n\u001b[0;32m      3\u001b[0m         \u001b[38;5;28;01mfor\u001b[39;00m j \u001b[38;5;129;01min\u001b[39;00m i:\n\u001b[0;32m      4\u001b[0m             \u001b[38;5;28;01mif\u001b[39;00m (j[\u001b[38;5;124m'\u001b[39m\u001b[38;5;124myear\u001b[39m\u001b[38;5;124m'\u001b[39m] \u001b[38;5;241m==\u001b[39m \u001b[38;5;28;01mNone\u001b[39;00m):\n",
      "\u001b[1;31mTypeError\u001b[0m: list indices must be integers or slices, not str"
     ]
    }
   ],
   "source": []
  },
  {
   "cell_type": "code",
   "execution_count": null,
   "id": "99705d8f",
   "metadata": {},
   "outputs": [
    {
     "ename": "ValueError",
     "evalue": "too many values to unpack (expected 2)",
     "output_type": "error",
     "traceback": [
      "\u001b[1;31m---------------------------------------------------------------------------\u001b[0m",
      "\u001b[1;31mValueError\u001b[0m                                Traceback (most recent call last)",
      "Cell \u001b[1;32mIn[76], line 4\u001b[0m\n\u001b[0;32m      2\u001b[0m \u001b[38;5;28;01mfor\u001b[39;00m i \u001b[38;5;129;01min\u001b[39;00m (dfClean1[\u001b[38;5;124m'\u001b[39m\u001b[38;5;124mvisitor_history\u001b[39m\u001b[38;5;124m'\u001b[39m]):\n\u001b[0;32m      3\u001b[0m     \u001b[38;5;28;01mfor\u001b[39;00m j \u001b[38;5;129;01min\u001b[39;00m i:\n\u001b[1;32m----> 4\u001b[0m         \u001b[38;5;28;01mfor\u001b[39;00m key, value \u001b[38;5;129;01min\u001b[39;00m j:\n\u001b[0;32m      5\u001b[0m             \u001b[38;5;28mprint\u001b[39m(key, value)\n\u001b[0;32m      6\u001b[0m         \u001b[38;5;66;03m#visDict[j] = int(j['visitors':])\u001b[39;00m\n",
      "\u001b[1;31mValueError\u001b[0m: too many values to unpack (expected 2)"
     ]
    }
   ],
   "source": [
    "#visDict = {}\n",
    "for i in (dfClean0['visitor_history']):\n",
    "    for j in i:\n",
    "        for key, value in j:\n",
    "            print(key, value)\n",
    "        #visDict[j] = int(j['visitors':])\n",
    "\n",
    "# for k in range(len(dfClean1['visitor_history])\n",
    "#     dfClean1['visitor_history][k] = int(j['visitors'])"
   ]
  },
  {
   "cell_type": "code",
   "execution_count": null,
   "id": "c6015868",
   "metadata": {},
   "outputs": [
    {
     "ename": "TypeError",
     "evalue": "list indices must be integers or slices, not str",
     "output_type": "error",
     "traceback": [
      "\u001b[1;31m---------------------------------------------------------------------------\u001b[0m",
      "\u001b[1;31mTypeError\u001b[0m                                 Traceback (most recent call last)",
      "Cell \u001b[1;32mIn[54], line 1\u001b[0m\n\u001b[1;32m----> 1\u001b[0m dfClean1 \u001b[38;5;241m=\u001b[39m \u001b[43mdf\u001b[49m\u001b[43m[\u001b[49m\u001b[38;5;124;43m'\u001b[39;49m\u001b[38;5;124;43mvisitor_history\u001b[39;49m\u001b[38;5;124;43m'\u001b[39;49m\u001b[43m]\u001b[49m\u001b[38;5;241;43m.\u001b[39;49m\u001b[43mapply\u001b[49m\u001b[43m(\u001b[49m\u001b[43mnaDrop\u001b[49m\u001b[43m)\u001b[49m\n",
      "File \u001b[1;32mc:\\Users\\mcken\\miniconda3\\Lib\\site-packages\\pandas\\core\\series.py:4935\u001b[0m, in \u001b[0;36mSeries.apply\u001b[1;34m(self, func, convert_dtype, args, by_row, **kwargs)\u001b[0m\n\u001b[0;32m   4800\u001b[0m \u001b[38;5;28;01mdef\u001b[39;00m\u001b[38;5;250m \u001b[39m\u001b[38;5;21mapply\u001b[39m(\n\u001b[0;32m   4801\u001b[0m     \u001b[38;5;28mself\u001b[39m,\n\u001b[0;32m   4802\u001b[0m     func: AggFuncType,\n\u001b[1;32m   (...)\u001b[0m\n\u001b[0;32m   4807\u001b[0m     \u001b[38;5;241m*\u001b[39m\u001b[38;5;241m*\u001b[39mkwargs,\n\u001b[0;32m   4808\u001b[0m ) \u001b[38;5;241m-\u001b[39m\u001b[38;5;241m>\u001b[39m DataFrame \u001b[38;5;241m|\u001b[39m Series:\n\u001b[0;32m   4809\u001b[0m \u001b[38;5;250m    \u001b[39m\u001b[38;5;124;03m\"\"\"\u001b[39;00m\n\u001b[0;32m   4810\u001b[0m \u001b[38;5;124;03m    Invoke function on values of Series.\u001b[39;00m\n\u001b[0;32m   4811\u001b[0m \n\u001b[1;32m   (...)\u001b[0m\n\u001b[0;32m   4926\u001b[0m \u001b[38;5;124;03m    dtype: float64\u001b[39;00m\n\u001b[0;32m   4927\u001b[0m \u001b[38;5;124;03m    \"\"\"\u001b[39;00m\n\u001b[0;32m   4928\u001b[0m     \u001b[38;5;28;01mreturn\u001b[39;00m \u001b[43mSeriesApply\u001b[49m\u001b[43m(\u001b[49m\n\u001b[0;32m   4929\u001b[0m \u001b[43m        \u001b[49m\u001b[38;5;28;43mself\u001b[39;49m\u001b[43m,\u001b[49m\n\u001b[0;32m   4930\u001b[0m \u001b[43m        \u001b[49m\u001b[43mfunc\u001b[49m\u001b[43m,\u001b[49m\n\u001b[0;32m   4931\u001b[0m \u001b[43m        \u001b[49m\u001b[43mconvert_dtype\u001b[49m\u001b[38;5;241;43m=\u001b[39;49m\u001b[43mconvert_dtype\u001b[49m\u001b[43m,\u001b[49m\n\u001b[0;32m   4932\u001b[0m \u001b[43m        \u001b[49m\u001b[43mby_row\u001b[49m\u001b[38;5;241;43m=\u001b[39;49m\u001b[43mby_row\u001b[49m\u001b[43m,\u001b[49m\n\u001b[0;32m   4933\u001b[0m \u001b[43m        \u001b[49m\u001b[43margs\u001b[49m\u001b[38;5;241;43m=\u001b[39;49m\u001b[43margs\u001b[49m\u001b[43m,\u001b[49m\n\u001b[0;32m   4934\u001b[0m \u001b[43m        \u001b[49m\u001b[43mkwargs\u001b[49m\u001b[38;5;241;43m=\u001b[39;49m\u001b[43mkwargs\u001b[49m\u001b[43m,\u001b[49m\n\u001b[1;32m-> 4935\u001b[0m \u001b[43m    \u001b[49m\u001b[43m)\u001b[49m\u001b[38;5;241;43m.\u001b[39;49m\u001b[43mapply\u001b[49m\u001b[43m(\u001b[49m\u001b[43m)\u001b[49m\n",
      "File \u001b[1;32mc:\\Users\\mcken\\miniconda3\\Lib\\site-packages\\pandas\\core\\apply.py:1422\u001b[0m, in \u001b[0;36mSeriesApply.apply\u001b[1;34m(self)\u001b[0m\n\u001b[0;32m   1419\u001b[0m     \u001b[38;5;28;01mreturn\u001b[39;00m \u001b[38;5;28mself\u001b[39m\u001b[38;5;241m.\u001b[39mapply_compat()\n\u001b[0;32m   1421\u001b[0m \u001b[38;5;66;03m# self.func is Callable\u001b[39;00m\n\u001b[1;32m-> 1422\u001b[0m \u001b[38;5;28;01mreturn\u001b[39;00m \u001b[38;5;28;43mself\u001b[39;49m\u001b[38;5;241;43m.\u001b[39;49m\u001b[43mapply_standard\u001b[49m\u001b[43m(\u001b[49m\u001b[43m)\u001b[49m\n",
      "File \u001b[1;32mc:\\Users\\mcken\\miniconda3\\Lib\\site-packages\\pandas\\core\\apply.py:1502\u001b[0m, in \u001b[0;36mSeriesApply.apply_standard\u001b[1;34m(self)\u001b[0m\n\u001b[0;32m   1496\u001b[0m \u001b[38;5;66;03m# row-wise access\u001b[39;00m\n\u001b[0;32m   1497\u001b[0m \u001b[38;5;66;03m# apply doesn't have a `na_action` keyword and for backward compat reasons\u001b[39;00m\n\u001b[0;32m   1498\u001b[0m \u001b[38;5;66;03m# we need to give `na_action=\"ignore\"` for categorical data.\u001b[39;00m\n\u001b[0;32m   1499\u001b[0m \u001b[38;5;66;03m# TODO: remove the `na_action=\"ignore\"` when that default has been changed in\u001b[39;00m\n\u001b[0;32m   1500\u001b[0m \u001b[38;5;66;03m#  Categorical (GH51645).\u001b[39;00m\n\u001b[0;32m   1501\u001b[0m action \u001b[38;5;241m=\u001b[39m \u001b[38;5;124m\"\u001b[39m\u001b[38;5;124mignore\u001b[39m\u001b[38;5;124m\"\u001b[39m \u001b[38;5;28;01mif\u001b[39;00m \u001b[38;5;28misinstance\u001b[39m(obj\u001b[38;5;241m.\u001b[39mdtype, CategoricalDtype) \u001b[38;5;28;01melse\u001b[39;00m \u001b[38;5;28;01mNone\u001b[39;00m\n\u001b[1;32m-> 1502\u001b[0m mapped \u001b[38;5;241m=\u001b[39m \u001b[43mobj\u001b[49m\u001b[38;5;241;43m.\u001b[39;49m\u001b[43m_map_values\u001b[49m\u001b[43m(\u001b[49m\n\u001b[0;32m   1503\u001b[0m \u001b[43m    \u001b[49m\u001b[43mmapper\u001b[49m\u001b[38;5;241;43m=\u001b[39;49m\u001b[43mcurried\u001b[49m\u001b[43m,\u001b[49m\u001b[43m \u001b[49m\u001b[43mna_action\u001b[49m\u001b[38;5;241;43m=\u001b[39;49m\u001b[43maction\u001b[49m\u001b[43m,\u001b[49m\u001b[43m \u001b[49m\u001b[43mconvert\u001b[49m\u001b[38;5;241;43m=\u001b[39;49m\u001b[38;5;28;43mself\u001b[39;49m\u001b[38;5;241;43m.\u001b[39;49m\u001b[43mconvert_dtype\u001b[49m\n\u001b[0;32m   1504\u001b[0m \u001b[43m\u001b[49m\u001b[43m)\u001b[49m\n\u001b[0;32m   1506\u001b[0m \u001b[38;5;28;01mif\u001b[39;00m \u001b[38;5;28mlen\u001b[39m(mapped) \u001b[38;5;129;01mand\u001b[39;00m \u001b[38;5;28misinstance\u001b[39m(mapped[\u001b[38;5;241m0\u001b[39m], ABCSeries):\n\u001b[0;32m   1507\u001b[0m     \u001b[38;5;66;03m# GH#43986 Need to do list(mapped) in order to get treated as nested\u001b[39;00m\n\u001b[0;32m   1508\u001b[0m     \u001b[38;5;66;03m#  See also GH#25959 regarding EA support\u001b[39;00m\n\u001b[0;32m   1509\u001b[0m     \u001b[38;5;28;01mreturn\u001b[39;00m obj\u001b[38;5;241m.\u001b[39m_constructor_expanddim(\u001b[38;5;28mlist\u001b[39m(mapped), index\u001b[38;5;241m=\u001b[39mobj\u001b[38;5;241m.\u001b[39mindex)\n",
      "File \u001b[1;32mc:\\Users\\mcken\\miniconda3\\Lib\\site-packages\\pandas\\core\\base.py:925\u001b[0m, in \u001b[0;36mIndexOpsMixin._map_values\u001b[1;34m(self, mapper, na_action, convert)\u001b[0m\n\u001b[0;32m    922\u001b[0m \u001b[38;5;28;01mif\u001b[39;00m \u001b[38;5;28misinstance\u001b[39m(arr, ExtensionArray):\n\u001b[0;32m    923\u001b[0m     \u001b[38;5;28;01mreturn\u001b[39;00m arr\u001b[38;5;241m.\u001b[39mmap(mapper, na_action\u001b[38;5;241m=\u001b[39mna_action)\n\u001b[1;32m--> 925\u001b[0m \u001b[38;5;28;01mreturn\u001b[39;00m \u001b[43malgorithms\u001b[49m\u001b[38;5;241;43m.\u001b[39;49m\u001b[43mmap_array\u001b[49m\u001b[43m(\u001b[49m\u001b[43marr\u001b[49m\u001b[43m,\u001b[49m\u001b[43m \u001b[49m\u001b[43mmapper\u001b[49m\u001b[43m,\u001b[49m\u001b[43m \u001b[49m\u001b[43mna_action\u001b[49m\u001b[38;5;241;43m=\u001b[39;49m\u001b[43mna_action\u001b[49m\u001b[43m,\u001b[49m\u001b[43m \u001b[49m\u001b[43mconvert\u001b[49m\u001b[38;5;241;43m=\u001b[39;49m\u001b[43mconvert\u001b[49m\u001b[43m)\u001b[49m\n",
      "File \u001b[1;32mc:\\Users\\mcken\\miniconda3\\Lib\\site-packages\\pandas\\core\\algorithms.py:1743\u001b[0m, in \u001b[0;36mmap_array\u001b[1;34m(arr, mapper, na_action, convert)\u001b[0m\n\u001b[0;32m   1741\u001b[0m values \u001b[38;5;241m=\u001b[39m arr\u001b[38;5;241m.\u001b[39mastype(\u001b[38;5;28mobject\u001b[39m, copy\u001b[38;5;241m=\u001b[39m\u001b[38;5;28;01mFalse\u001b[39;00m)\n\u001b[0;32m   1742\u001b[0m \u001b[38;5;28;01mif\u001b[39;00m na_action \u001b[38;5;129;01mis\u001b[39;00m \u001b[38;5;28;01mNone\u001b[39;00m:\n\u001b[1;32m-> 1743\u001b[0m     \u001b[38;5;28;01mreturn\u001b[39;00m \u001b[43mlib\u001b[49m\u001b[38;5;241;43m.\u001b[39;49m\u001b[43mmap_infer\u001b[49m\u001b[43m(\u001b[49m\u001b[43mvalues\u001b[49m\u001b[43m,\u001b[49m\u001b[43m \u001b[49m\u001b[43mmapper\u001b[49m\u001b[43m,\u001b[49m\u001b[43m \u001b[49m\u001b[43mconvert\u001b[49m\u001b[38;5;241;43m=\u001b[39;49m\u001b[43mconvert\u001b[49m\u001b[43m)\u001b[49m\n\u001b[0;32m   1744\u001b[0m \u001b[38;5;28;01melse\u001b[39;00m:\n\u001b[0;32m   1745\u001b[0m     \u001b[38;5;28;01mreturn\u001b[39;00m lib\u001b[38;5;241m.\u001b[39mmap_infer_mask(\n\u001b[0;32m   1746\u001b[0m         values, mapper, mask\u001b[38;5;241m=\u001b[39misna(values)\u001b[38;5;241m.\u001b[39mview(np\u001b[38;5;241m.\u001b[39muint8), convert\u001b[38;5;241m=\u001b[39mconvert\n\u001b[0;32m   1747\u001b[0m     )\n",
      "File \u001b[1;32mpandas/_libs/lib.pyx:2999\u001b[0m, in \u001b[0;36mpandas._libs.lib.map_infer\u001b[1;34m()\u001b[0m\n",
      "Cell \u001b[1;32mIn[53], line 3\u001b[0m, in \u001b[0;36mnaDrop\u001b[1;34m(df)\u001b[0m\n\u001b[0;32m      1\u001b[0m \u001b[38;5;28;01mdef\u001b[39;00m\u001b[38;5;250m \u001b[39m\u001b[38;5;21mnaDrop\u001b[39m(df):\n\u001b[1;32m----> 3\u001b[0m     \u001b[38;5;28;01mfor\u001b[39;00m i \u001b[38;5;129;01min\u001b[39;00m (\u001b[43mdf\u001b[49m\u001b[43m[\u001b[49m\u001b[38;5;124;43m'\u001b[39;49m\u001b[38;5;124;43mvisitor_history\u001b[39;49m\u001b[38;5;124;43m'\u001b[39;49m\u001b[43m]\u001b[49m):\n\u001b[0;32m      4\u001b[0m         \u001b[38;5;28;01mfor\u001b[39;00m j \u001b[38;5;129;01min\u001b[39;00m i:\n\u001b[0;32m      5\u001b[0m             \u001b[38;5;28;01mif\u001b[39;00m (j[\u001b[38;5;124m'\u001b[39m\u001b[38;5;124myear\u001b[39m\u001b[38;5;124m'\u001b[39m] \u001b[38;5;241m==\u001b[39m \u001b[38;5;28;01mNone\u001b[39;00m):\n",
      "\u001b[1;31mTypeError\u001b[0m: list indices must be integers or slices, not str"
     ]
    }
   ],
   "source": []
  }
 ],
 "metadata": {
  "kernelspec": {
   "display_name": "base",
   "language": "python",
   "name": "python3"
  },
  "language_info": {
   "codemirror_mode": {
    "name": "ipython",
    "version": 3
   },
   "file_extension": ".py",
   "mimetype": "text/x-python",
   "name": "python",
   "nbconvert_exporter": "python",
   "pygments_lexer": "ipython3",
   "version": "3.12.3"
  }
 },
 "nbformat": 4,
 "nbformat_minor": 5
}
